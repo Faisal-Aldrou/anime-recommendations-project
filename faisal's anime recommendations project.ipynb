{
 "cells": [
  {
   "cell_type": "markdown",
   "metadata": {},
   "source": [
    "# Anime Recommender System"
   ]
  },
  {
   "cell_type": "markdown",
   "metadata": {},
   "source": [
    "This is my first recommendation system. Anime was chosen because it is content I have some familiarity with, and it allowed me to create something with utility for my hobbies as well as practice data analysis."
   ]
  },
  {
   "cell_type": "markdown",
   "metadata": {},
   "source": [
    "For this project, fifteen recommendations are made based on tags associated to each anime. Tags showed correlation to the rank each anime was assigned. Likewise, it made sense tags showed some correlation with ratings as well. However this did present some challenges toward the studio name associated to the anime, which required either more research or further analysis.\n",
    "\n",
    "The concepts used in this project were:\n",
    "* Content-Based Filtering\n",
    "* Tokenization\n",
    "* Vectorization\n",
    "* Cosine Similarity\n",
    "* Correlations\n",
    "* Bag of Words\n",
    "* Imputation"
   ]
  },
  {
   "cell_type": "markdown",
   "metadata": {},
   "source": [
    "# Preparing the Data"
   ]
  },
  {
   "cell_type": "markdown",
   "metadata": {},
   "source": [
    "First, libraries must be imported."
   ]
  },
  {
   "cell_type": "code",
   "execution_count": 28,
   "metadata": {
    "execution": {
     "iopub.execute_input": "2023-04-25T01:12:43.595062Z",
     "iopub.status.busy": "2023-04-25T01:12:43.594561Z",
     "iopub.status.idle": "2023-04-25T01:12:43.612612Z",
     "shell.execute_reply": "2023-04-25T01:12:43.611294Z",
     "shell.execute_reply.started": "2023-04-25T01:12:43.595017Z"
    }
   },
   "outputs": [],
   "source": [
    "# This Python 3 environment comes with many helpful analytics libraries installed\n",
    "# It is defined by the kaggle/python Docker image: https://github.com/kaggle/docker-python\n",
    "# For example, here's several helpful packages to load\n",
    "\n",
    "import numpy as np # linear algebra\n",
    "import pandas as pd # data processing, CSV file I/O (e.g. pd.read_csv)\n",
    "\n",
    "# Input data files are available in the read-only \"../input/\" directory\n",
    "# For example, running this (by clicking run or pressing Shift+Enter) will list all files under the input directory\n",
    "\n",
    "import os\n",
    "for dirname, _, filenames in os.walk('/kaggle/input'):\n",
    "    for filename in filenames:\n",
    "        print(os.path.join(dirname, filename))\n",
    "\n",
    "# You can write up to 20GB to the current directory (/kaggle/working/) that gets preserved as output when you create a version using \"Save & Run All\" \n",
    "# You can also write temporary files to /kaggle/temp/, but they won't be saved outside of the current session"
   ]
  },
  {
   "cell_type": "code",
   "execution_count": 29,
   "metadata": {
    "execution": {
     "iopub.execute_input": "2023-04-25T01:12:43.615961Z",
     "iopub.status.busy": "2023-04-25T01:12:43.61525Z",
     "iopub.status.idle": "2023-04-25T01:12:43.871437Z",
     "shell.execute_reply": "2023-04-25T01:12:43.870256Z",
     "shell.execute_reply.started": "2023-04-25T01:12:43.615922Z"
    }
   },
   "outputs": [],
   "source": [
    "# Import the data\n",
    "data_m = pd.read_csv('C://Users//JCC\\OneDrive//سطح المكتب//anime//Anime.csv')\n",
    "pd.set_option('display.max_columns', 200) \n"
   ]
  },
  {
   "cell_type": "code",
   "execution_count": 30,
   "metadata": {
    "execution": {
     "iopub.execute_input": "2023-04-25T01:12:43.873151Z",
     "iopub.status.busy": "2023-04-25T01:12:43.872841Z",
     "iopub.status.idle": "2023-04-25T01:12:43.879787Z",
     "shell.execute_reply": "2023-04-25T01:12:43.878575Z",
     "shell.execute_reply.started": "2023-04-25T01:12:43.873113Z"
    }
   },
   "outputs": [],
   "source": [
    "# Import Visualization Libraries\n",
    "import matplotlib.pyplot as plt\n",
    "import seaborn as sns\n",
    "\n",
    "%matplotlib inline"
   ]
  },
  {
   "cell_type": "code",
   "execution_count": 31,
   "metadata": {
    "execution": {
     "iopub.execute_input": "2023-04-25T01:12:43.882317Z",
     "iopub.status.busy": "2023-04-25T01:12:43.881584Z",
     "iopub.status.idle": "2023-04-25T01:12:43.892291Z",
     "shell.execute_reply": "2023-04-25T01:12:43.89123Z",
     "shell.execute_reply.started": "2023-04-25T01:12:43.882268Z"
    }
   },
   "outputs": [],
   "source": [
    "import warnings\n",
    "warnings.filterwarnings('ignore')"
   ]
  },
  {
   "cell_type": "code",
   "execution_count": 32,
   "metadata": {
    "tags": []
   },
   "outputs": [],
   "source": [
    "# Import the data\n",
    "data_m = pd.read_csv('C://Users//JCC//OneDrive//سطح المكتب//Anime.csv//Anime.csv')\n"
   ]
  },
  {
   "cell_type": "code",
   "execution_count": 33,
   "metadata": {
    "tags": []
   },
   "outputs": [
    {
     "ename": "AttributeError",
     "evalue": "'Index' object has no attribute '_format_flat'",
     "output_type": "error",
     "traceback": [
      "\u001b[1;31m---------------------------------------------------------------------------\u001b[0m",
      "\u001b[1;31mAttributeError\u001b[0m                            Traceback (most recent call last)",
      "File \u001b[1;32m~\\AppData\\Roaming\\Python\\Python311\\site-packages\\IPython\\core\\formatters.py:347\u001b[0m, in \u001b[0;36mBaseFormatter.__call__\u001b[1;34m(self, obj)\u001b[0m\n\u001b[0;32m    345\u001b[0m     method \u001b[38;5;241m=\u001b[39m get_real_method(obj, \u001b[38;5;28mself\u001b[39m\u001b[38;5;241m.\u001b[39mprint_method)\n\u001b[0;32m    346\u001b[0m     \u001b[38;5;28;01mif\u001b[39;00m method \u001b[38;5;129;01mis\u001b[39;00m \u001b[38;5;129;01mnot\u001b[39;00m \u001b[38;5;28;01mNone\u001b[39;00m:\n\u001b[1;32m--> 347\u001b[0m         \u001b[38;5;28;01mreturn\u001b[39;00m \u001b[43mmethod\u001b[49m\u001b[43m(\u001b[49m\u001b[43m)\u001b[49m\n\u001b[0;32m    348\u001b[0m     \u001b[38;5;28;01mreturn\u001b[39;00m \u001b[38;5;28;01mNone\u001b[39;00m\n\u001b[0;32m    349\u001b[0m \u001b[38;5;28;01melse\u001b[39;00m:\n",
      "File \u001b[1;32mc:\\Users\\JCC\\anaconda3\\Lib\\site-packages\\pandas\\core\\frame.py:1136\u001b[0m, in \u001b[0;36m_repr_html_\u001b[1;34m(self)\u001b[0m\n\u001b[0;32m   1134\u001b[0m \u001b[38;5;66;03m# more generally, whatever we allow in NDArrayBackedExtensionBlock\u001b[39;00m\n\u001b[0;32m   1135\u001b[0m arr \u001b[38;5;241m=\u001b[39m cast(\u001b[38;5;124m\"\u001b[39m\u001b[38;5;124mnp.ndarray | DatetimeArray | TimedeltaArray | PeriodArray\u001b[39m\u001b[38;5;124m\"\u001b[39m, arr)\n\u001b[1;32m-> 1136\u001b[0m \u001b[38;5;28;01mreturn\u001b[39;00m arr\u001b[38;5;241m.\u001b[39mT\n",
      "File \u001b[1;32mc:\\Users\\JCC\\anaconda3\\Lib\\site-packages\\pandas\\io\\formats\\format.py:1108\u001b[0m, in \u001b[0;36mto_html\u001b[1;34m(self, buf, encoding, classes, notebook, border, table_id, render_links)\u001b[0m\n\u001b[0;32m   1079\u001b[0m \u001b[38;5;28;01mdef\u001b[39;00m \u001b[38;5;21mformat_array\u001b[39m(\n\u001b[0;32m   1080\u001b[0m     values: ArrayLike,\n\u001b[0;32m   1081\u001b[0m     formatter: Callable \u001b[38;5;241m|\u001b[39m \u001b[38;5;28;01mNone\u001b[39;00m,\n\u001b[1;32m   (...)\u001b[0m\n\u001b[0;32m   1090\u001b[0m     fallback_formatter: Callable \u001b[38;5;241m|\u001b[39m \u001b[38;5;28;01mNone\u001b[39;00m \u001b[38;5;241m=\u001b[39m \u001b[38;5;28;01mNone\u001b[39;00m,\n\u001b[0;32m   1091\u001b[0m ) \u001b[38;5;241m-\u001b[39m\u001b[38;5;241m>\u001b[39m \u001b[38;5;28mlist\u001b[39m[\u001b[38;5;28mstr\u001b[39m]:\n\u001b[0;32m   1092\u001b[0m \u001b[38;5;250m    \u001b[39m\u001b[38;5;124;03m\"\"\"\u001b[39;00m\n\u001b[0;32m   1093\u001b[0m \u001b[38;5;124;03m    Format an array for printing.\u001b[39;00m\n\u001b[0;32m   1094\u001b[0m \n\u001b[0;32m   1095\u001b[0m \u001b[38;5;124;03m    Parameters\u001b[39;00m\n\u001b[0;32m   1096\u001b[0m \u001b[38;5;124;03m    ----------\u001b[39;00m\n\u001b[0;32m   1097\u001b[0m \u001b[38;5;124;03m    values : np.ndarray or ExtensionArray\u001b[39;00m\n\u001b[0;32m   1098\u001b[0m \u001b[38;5;124;03m    formatter\u001b[39;00m\n\u001b[0;32m   1099\u001b[0m \u001b[38;5;124;03m    float_format\u001b[39;00m\n\u001b[0;32m   1100\u001b[0m \u001b[38;5;124;03m    na_rep\u001b[39;00m\n\u001b[0;32m   1101\u001b[0m \u001b[38;5;124;03m    digits\u001b[39;00m\n\u001b[0;32m   1102\u001b[0m \u001b[38;5;124;03m    space\u001b[39;00m\n\u001b[0;32m   1103\u001b[0m \u001b[38;5;124;03m    justify\u001b[39;00m\n\u001b[0;32m   1104\u001b[0m \u001b[38;5;124;03m    decimal\u001b[39;00m\n\u001b[0;32m   1105\u001b[0m \u001b[38;5;124;03m    leading_space : bool, optional, default True\u001b[39;00m\n\u001b[0;32m   1106\u001b[0m \u001b[38;5;124;03m        Whether the array should be formatted with a leading space.\u001b[39;00m\n\u001b[0;32m   1107\u001b[0m \u001b[38;5;124;03m        When an array as a column of a Series or DataFrame, we do want\u001b[39;00m\n\u001b[1;32m-> 1108\u001b[0m \u001b[38;5;124;03m        the leading space to pad between columns.\u001b[39;00m\n\u001b[0;32m   1109\u001b[0m \n\u001b[0;32m   1110\u001b[0m \u001b[38;5;124;03m        When formatting an Index subclass\u001b[39;00m\n\u001b[0;32m   1111\u001b[0m \u001b[38;5;124;03m        (e.g. IntervalIndex._get_values_for_csv), we don't want the\u001b[39;00m\n\u001b[0;32m   1112\u001b[0m \u001b[38;5;124;03m        leading space since it should be left-aligned.\u001b[39;00m\n\u001b[0;32m   1113\u001b[0m \u001b[38;5;124;03m    fallback_formatter\u001b[39;00m\n\u001b[0;32m   1114\u001b[0m \n\u001b[0;32m   1115\u001b[0m \u001b[38;5;124;03m    Returns\u001b[39;00m\n\u001b[0;32m   1116\u001b[0m \u001b[38;5;124;03m    -------\u001b[39;00m\n\u001b[0;32m   1117\u001b[0m \u001b[38;5;124;03m    List[str]\u001b[39;00m\n\u001b[0;32m   1118\u001b[0m \u001b[38;5;124;03m    \"\"\"\u001b[39;00m\n\u001b[0;32m   1119\u001b[0m     fmt_klass: \u001b[38;5;28mtype\u001b[39m[_GenericArrayFormatter]\n\u001b[0;32m   1120\u001b[0m     \u001b[38;5;28;01mif\u001b[39;00m lib\u001b[38;5;241m.\u001b[39mis_np_dtype(values\u001b[38;5;241m.\u001b[39mdtype, \u001b[38;5;124m\"\u001b[39m\u001b[38;5;124mM\u001b[39m\u001b[38;5;124m\"\u001b[39m):\n",
      "File \u001b[1;32mc:\\Users\\JCC\\anaconda3\\Lib\\site-packages\\pandas\\io\\formats\\html.py:88\u001b[0m, in \u001b[0;36mHTMLFormatter.to_string\u001b[1;34m(self)\u001b[0m\n\u001b[0;32m     87\u001b[0m \u001b[38;5;28;01mdef\u001b[39;00m \u001b[38;5;21mto_string\u001b[39m(\u001b[38;5;28mself\u001b[39m) \u001b[38;5;241m-\u001b[39m\u001b[38;5;241m>\u001b[39m \u001b[38;5;28mstr\u001b[39m:\n\u001b[1;32m---> 88\u001b[0m     lines \u001b[38;5;241m=\u001b[39m \u001b[38;5;28;43mself\u001b[39;49m\u001b[38;5;241;43m.\u001b[39;49m\u001b[43mrender\u001b[49m\u001b[43m(\u001b[49m\u001b[43m)\u001b[49m\n\u001b[0;32m     89\u001b[0m     \u001b[38;5;28;01mif\u001b[39;00m \u001b[38;5;28many\u001b[39m(\u001b[38;5;28misinstance\u001b[39m(x, \u001b[38;5;28mstr\u001b[39m) \u001b[38;5;28;01mfor\u001b[39;00m x \u001b[38;5;129;01min\u001b[39;00m lines):\n\u001b[0;32m     90\u001b[0m         lines \u001b[38;5;241m=\u001b[39m [\u001b[38;5;28mstr\u001b[39m(x) \u001b[38;5;28;01mfor\u001b[39;00m x \u001b[38;5;129;01min\u001b[39;00m lines]\n",
      "File \u001b[1;32mc:\\Users\\JCC\\anaconda3\\Lib\\site-packages\\pandas\\io\\formats\\html.py:644\u001b[0m, in \u001b[0;36mNotebookFormatter.render\u001b[1;34m(self)\u001b[0m\n\u001b[0;32m    642\u001b[0m \u001b[38;5;28mself\u001b[39m\u001b[38;5;241m.\u001b[39mwrite(\u001b[38;5;124m\"\u001b[39m\u001b[38;5;124m<div>\u001b[39m\u001b[38;5;124m\"\u001b[39m)\n\u001b[0;32m    643\u001b[0m \u001b[38;5;28mself\u001b[39m\u001b[38;5;241m.\u001b[39mwrite_style()\n\u001b[1;32m--> 644\u001b[0m \u001b[38;5;28;43msuper\u001b[39;49m\u001b[43m(\u001b[49m\u001b[43m)\u001b[49m\u001b[38;5;241;43m.\u001b[39;49m\u001b[43mrender\u001b[49m\u001b[43m(\u001b[49m\u001b[43m)\u001b[49m\n\u001b[0;32m    645\u001b[0m \u001b[38;5;28mself\u001b[39m\u001b[38;5;241m.\u001b[39mwrite(\u001b[38;5;124m\"\u001b[39m\u001b[38;5;124m</div>\u001b[39m\u001b[38;5;124m\"\u001b[39m)\n\u001b[0;32m    646\u001b[0m \u001b[38;5;28;01mreturn\u001b[39;00m \u001b[38;5;28mself\u001b[39m\u001b[38;5;241m.\u001b[39melements\n",
      "File \u001b[1;32mc:\\Users\\JCC\\anaconda3\\Lib\\site-packages\\pandas\\io\\formats\\html.py:94\u001b[0m, in \u001b[0;36mHTMLFormatter.render\u001b[1;34m(self)\u001b[0m\n\u001b[0;32m     93\u001b[0m \u001b[38;5;28;01mdef\u001b[39;00m \u001b[38;5;21mrender\u001b[39m(\u001b[38;5;28mself\u001b[39m) \u001b[38;5;241m-\u001b[39m\u001b[38;5;241m>\u001b[39m \u001b[38;5;28mlist\u001b[39m[\u001b[38;5;28mstr\u001b[39m]:\n\u001b[1;32m---> 94\u001b[0m     \u001b[38;5;28;43mself\u001b[39;49m\u001b[38;5;241;43m.\u001b[39;49m\u001b[43m_write_table\u001b[49m\u001b[43m(\u001b[49m\u001b[43m)\u001b[49m\n\u001b[0;32m     96\u001b[0m     \u001b[38;5;28;01mif\u001b[39;00m \u001b[38;5;28mself\u001b[39m\u001b[38;5;241m.\u001b[39mshould_show_dimensions:\n\u001b[0;32m     97\u001b[0m         by \u001b[38;5;241m=\u001b[39m \u001b[38;5;28mchr\u001b[39m(\u001b[38;5;241m215\u001b[39m)  \u001b[38;5;66;03m# ×  # noqa: RUF003\u001b[39;00m\n",
      "File \u001b[1;32mc:\\Users\\JCC\\anaconda3\\Lib\\site-packages\\pandas\\io\\formats\\html.py:267\u001b[0m, in \u001b[0;36mHTMLFormatter._write_table\u001b[1;34m(self, indent)\u001b[0m\n\u001b[0;32m    261\u001b[0m \u001b[38;5;28mself\u001b[39m\u001b[38;5;241m.\u001b[39mwrite(\n\u001b[0;32m    262\u001b[0m     \u001b[38;5;124mf\u001b[39m\u001b[38;5;124m'\u001b[39m\u001b[38;5;124m<table\u001b[39m\u001b[38;5;132;01m{\u001b[39;00mborder_attr\u001b[38;5;132;01m}\u001b[39;00m\u001b[38;5;124m class=\u001b[39m\u001b[38;5;124m\"\u001b[39m\u001b[38;5;132;01m{\u001b[39;00m\u001b[38;5;124m\"\u001b[39m\u001b[38;5;124m \u001b[39m\u001b[38;5;124m\"\u001b[39m\u001b[38;5;241m.\u001b[39mjoin(_classes)\u001b[38;5;132;01m}\u001b[39;00m\u001b[38;5;124m\"\u001b[39m\u001b[38;5;132;01m{\u001b[39;00mid_section\u001b[38;5;132;01m}\u001b[39;00m\u001b[38;5;124m>\u001b[39m\u001b[38;5;124m'\u001b[39m,\n\u001b[0;32m    263\u001b[0m     indent,\n\u001b[0;32m    264\u001b[0m )\n\u001b[0;32m    266\u001b[0m \u001b[38;5;28;01mif\u001b[39;00m \u001b[38;5;28mself\u001b[39m\u001b[38;5;241m.\u001b[39mfmt\u001b[38;5;241m.\u001b[39mheader \u001b[38;5;129;01mor\u001b[39;00m \u001b[38;5;28mself\u001b[39m\u001b[38;5;241m.\u001b[39mshow_row_idx_names:\n\u001b[1;32m--> 267\u001b[0m     \u001b[38;5;28;43mself\u001b[39;49m\u001b[38;5;241;43m.\u001b[39;49m\u001b[43m_write_header\u001b[49m\u001b[43m(\u001b[49m\u001b[43mindent\u001b[49m\u001b[43m \u001b[49m\u001b[38;5;241;43m+\u001b[39;49m\u001b[43m \u001b[49m\u001b[38;5;28;43mself\u001b[39;49m\u001b[38;5;241;43m.\u001b[39;49m\u001b[43mindent_delta\u001b[49m\u001b[43m)\u001b[49m\n\u001b[0;32m    269\u001b[0m \u001b[38;5;28mself\u001b[39m\u001b[38;5;241m.\u001b[39m_write_body(indent \u001b[38;5;241m+\u001b[39m \u001b[38;5;28mself\u001b[39m\u001b[38;5;241m.\u001b[39mindent_delta)\n\u001b[0;32m    271\u001b[0m \u001b[38;5;28mself\u001b[39m\u001b[38;5;241m.\u001b[39mwrite(\u001b[38;5;124m\"\u001b[39m\u001b[38;5;124m</table>\u001b[39m\u001b[38;5;124m\"\u001b[39m, indent)\n",
      "File \u001b[1;32mc:\\Users\\JCC\\anaconda3\\Lib\\site-packages\\pandas\\io\\formats\\html.py:403\u001b[0m, in \u001b[0;36mHTMLFormatter._write_header\u001b[1;34m(self, indent)\u001b[0m\n\u001b[0;32m    400\u001b[0m \u001b[38;5;28mself\u001b[39m\u001b[38;5;241m.\u001b[39mwrite(\u001b[38;5;124m\"\u001b[39m\u001b[38;5;124m<thead>\u001b[39m\u001b[38;5;124m\"\u001b[39m, indent)\n\u001b[0;32m    402\u001b[0m \u001b[38;5;28;01mif\u001b[39;00m \u001b[38;5;28mself\u001b[39m\u001b[38;5;241m.\u001b[39mfmt\u001b[38;5;241m.\u001b[39mheader:\n\u001b[1;32m--> 403\u001b[0m     \u001b[38;5;28;43mself\u001b[39;49m\u001b[38;5;241;43m.\u001b[39;49m\u001b[43m_write_col_header\u001b[49m\u001b[43m(\u001b[49m\u001b[43mindent\u001b[49m\u001b[43m \u001b[49m\u001b[38;5;241;43m+\u001b[39;49m\u001b[43m \u001b[49m\u001b[38;5;28;43mself\u001b[39;49m\u001b[38;5;241;43m.\u001b[39;49m\u001b[43mindent_delta\u001b[49m\u001b[43m)\u001b[49m\n\u001b[0;32m    405\u001b[0m \u001b[38;5;28;01mif\u001b[39;00m \u001b[38;5;28mself\u001b[39m\u001b[38;5;241m.\u001b[39mshow_row_idx_names:\n\u001b[0;32m    406\u001b[0m     \u001b[38;5;28mself\u001b[39m\u001b[38;5;241m.\u001b[39m_write_row_header(indent \u001b[38;5;241m+\u001b[39m \u001b[38;5;28mself\u001b[39m\u001b[38;5;241m.\u001b[39mindent_delta)\n",
      "File \u001b[1;32mc:\\Users\\JCC\\anaconda3\\Lib\\site-packages\\pandas\\io\\formats\\html.py:383\u001b[0m, in \u001b[0;36mHTMLFormatter._write_col_header\u001b[1;34m(self, indent)\u001b[0m\n\u001b[0;32m    381\u001b[0m     \u001b[38;5;28;01melse\u001b[39;00m:\n\u001b[0;32m    382\u001b[0m         row\u001b[38;5;241m.\u001b[39mappend(\u001b[38;5;124m\"\u001b[39m\u001b[38;5;124m\"\u001b[39m)\n\u001b[1;32m--> 383\u001b[0m row\u001b[38;5;241m.\u001b[39mextend(\u001b[38;5;28;43mself\u001b[39;49m\u001b[38;5;241;43m.\u001b[39;49m\u001b[43m_get_columns_formatted_values\u001b[49m\u001b[43m(\u001b[49m\u001b[43m)\u001b[49m)\n\u001b[0;32m    384\u001b[0m align \u001b[38;5;241m=\u001b[39m \u001b[38;5;28mself\u001b[39m\u001b[38;5;241m.\u001b[39mfmt\u001b[38;5;241m.\u001b[39mjustify\n\u001b[0;32m    386\u001b[0m \u001b[38;5;28;01mif\u001b[39;00m is_truncated_horizontally:\n",
      "File \u001b[1;32mc:\\Users\\JCC\\anaconda3\\Lib\\site-packages\\pandas\\io\\formats\\html.py:611\u001b[0m, in \u001b[0;36mNotebookFormatter._get_columns_formatted_values\u001b[1;34m(self)\u001b[0m\n\u001b[0;32m    609\u001b[0m \u001b[38;5;28;01mdef\u001b[39;00m \u001b[38;5;21m_get_columns_formatted_values\u001b[39m(\u001b[38;5;28mself\u001b[39m) \u001b[38;5;241m-\u001b[39m\u001b[38;5;241m>\u001b[39m \u001b[38;5;28mlist\u001b[39m[\u001b[38;5;28mstr\u001b[39m]:\n\u001b[0;32m    610\u001b[0m     \u001b[38;5;66;03m# only reached with non-Multi Index\u001b[39;00m\n\u001b[1;32m--> 611\u001b[0m     \u001b[38;5;28;01mreturn\u001b[39;00m \u001b[38;5;28;43mself\u001b[39;49m\u001b[38;5;241;43m.\u001b[39;49m\u001b[43mcolumns\u001b[49m\u001b[38;5;241;43m.\u001b[39;49m\u001b[43m_format_flat\u001b[49m(include_name\u001b[38;5;241m=\u001b[39m\u001b[38;5;28;01mFalse\u001b[39;00m)\n",
      "\u001b[1;31mAttributeError\u001b[0m: 'Index' object has no attribute '_format_flat'"
     ]
    },
    {
     "data": {
      "text/plain": [
       "   Rank                                               Name  \\\n",
       "0     1  Demon Slayer: Kimetsu no Yaiba - Entertainment...   \n",
       "1     2                     Fruits Basket the Final Season   \n",
       "2     3                                    Mo Dao Zu Shi 3   \n",
       "3     4                   Fullmetal Alchemist: Brotherhood   \n",
       "4     5                Attack on Titan 3rd Season: Part II   \n",
       "\n",
       "                                     Japanese_name   Type  Episodes  \\\n",
       "0                    Kimetsu no Yaiba: Yuukaku-hen  TV          NaN   \n",
       "1                          Fruits Basket the Final  TV         13.0   \n",
       "2                       The Founder of Diabolism 3  Web        12.0   \n",
       "3   Hagane no Renkinjutsushi: Full Metal Alchemist  TV         64.0   \n",
       "4             Shingeki no Kyojin Season 3: Part II  TV         10.0   \n",
       "\n",
       "              Studio Release_season  \\\n",
       "0           ufotable          Fall    \n",
       "1  TMS Entertainment         Spring   \n",
       "2   B.C MAY PICTURES            NaN   \n",
       "3              Bones         Spring   \n",
       "4         WIT Studio         Spring   \n",
       "\n",
       "                                                Tags  Rating  Release_year  \\\n",
       "0  Action, Adventure, Fantasy, Shounen, Demons, H...    4.60        2021.0   \n",
       "1  Drama, Fantasy, Romance, Shoujo, Animal Transf...    4.60        2021.0   \n",
       "2  Fantasy, Ancient China, Chinese Animation, Cul...    4.58        2021.0   \n",
       "3  Action, Adventure, Drama, Fantasy, Mystery, Sh...    4.58        2009.0   \n",
       "4  Action, Fantasy, Horror, Shounen, Dark Fantasy...    4.57        2019.0   \n",
       "\n",
       "   End_year                                        Description  \\\n",
       "0       NaN  'Tanjiro and his friends accompany the Hashira...   \n",
       "1       NaN                  'The final arc of Fruits Basket.'   \n",
       "2       NaN               'The third season of Mo Dao Zu Shi.'   \n",
       "3    2010.0  \"The foundation of alchemy is based on the law...   \n",
       "4       NaN  'The battle to retake Wall Maria begins now! W...   \n",
       "\n",
       "                                     Content_Warning  \\\n",
       "0                                  Explicit Violence   \n",
       "1  Emotional Abuse,, Mature Themes,, Physical Abu...   \n",
       "2                                                NaN   \n",
       "3  Animal Abuse,, Mature Themes,, Violence,, Dome...   \n",
       "4                    Cannibalism,, Explicit Violence   \n",
       "\n",
       "                                       Related_Mange  \\\n",
       "0                     Demon Slayer: Kimetsu no Yaiba   \n",
       "1               Fruits Basket, Fruits Basket Another   \n",
       "2  Grandmaster of Demonic Cultivation: Mo Dao Zu ...   \n",
       "3  Fullmetal Alchemist, Fullmetal Alchemist (Ligh...   \n",
       "4  Attack on Titan, Attack on Titan: End of the W...   \n",
       "\n",
       "                                       Related_anime  \\\n",
       "0  Demon Slayer: Kimetsu no Yaiba, Demon Slayer: ...   \n",
       "1  Fruits Basket 1st Season, Fruits Basket 2nd Se...   \n",
       "2                   Mo Dao Zu Shi 2, Mo Dao Zu Shi Q   \n",
       "3  Fullmetal Alchemist: Brotherhood Specials, Ful...   \n",
       "4  Attack on Titan, Attack on Titan 2nd Season, A...   \n",
       "\n",
       "                                        Voice_actors  \\\n",
       "0  Inosuke Hashibira : Yoshitsugu Matsuoka, Nezuk...   \n",
       "1  Akito Sohma : Maaya Sakamoto, Kyo Sohma : Yuum...   \n",
       "2  Lan Wangji, Wei Wuxian, Jiang Cheng, Jin Guang...   \n",
       "3  Alphonse Elric : Rie Kugimiya, Edward Elric : ...   \n",
       "4  Armin Arlelt : Marina Inoue, Eren Jaeger : Yuu...   \n",
       "\n",
       "                                               staff  \n",
       "0  Koyoharu Gotouge : Original Creator, Haruo Sot...  \n",
       "1  Natsuki Takaya : Original Creator, Yoshihide I...  \n",
       "2  Mo Xiang Tong Xiu : Original Creator, Xiong Ke...  \n",
       "3  Hiromu Arakawa : Original Creator, Yasuhiro Ir...  \n",
       "4  Hajime Isayama : Original Creator, Tetsurou Ar...  "
      ]
     },
     "execution_count": 33,
     "metadata": {},
     "output_type": "execute_result"
    }
   ],
   "source": [
    "df = pd.DataFrame(data_m)\n",
    "df.head()\n"
   ]
  },
  {
   "cell_type": "code",
   "execution_count": 34,
   "metadata": {
    "execution": {
     "iopub.execute_input": "2023-04-25T01:12:44.170737Z",
     "iopub.status.busy": "2023-04-25T01:12:44.170365Z",
     "iopub.status.idle": "2023-04-25T01:12:44.20282Z",
     "shell.execute_reply": "2023-04-25T01:12:44.201785Z",
     "shell.execute_reply.started": "2023-04-25T01:12:44.170683Z"
    }
   },
   "outputs": [
    {
     "name": "stdout",
     "output_type": "stream",
     "text": [
      "<class 'pandas.core.frame.DataFrame'>\n",
      "RangeIndex: 18495 entries, 0 to 18494\n",
      "Data columns (total 17 columns):\n",
      " #   Column           Non-Null Count  Dtype  \n",
      "---  ------           --------------  -----  \n",
      " 0   Rank             18495 non-null  int64  \n",
      " 1   Name             18495 non-null  object \n",
      " 2   Japanese_name    7938 non-null   object \n",
      " 3   Type             18495 non-null  object \n",
      " 4   Episodes         9501 non-null   float64\n",
      " 5   Studio           12018 non-null  object \n",
      " 6   Release_season   4116 non-null   object \n",
      " 7   Tags             18095 non-null  object \n",
      " 8   Rating           15364 non-null  float64\n",
      " 9   Release_year     18112 non-null  float64\n",
      " 10  End_year         2854 non-null   float64\n",
      " 11  Description      18491 non-null  object \n",
      " 12  Content_Warning  1840 non-null   object \n",
      " 13  Related_Mange    7627 non-null   object \n",
      " 14  Related_anime    10063 non-null  object \n",
      " 15  Voice_actors     15309 non-null  object \n",
      " 16  staff            13005 non-null  object \n",
      "dtypes: float64(4), int64(1), object(12)\n",
      "memory usage: 2.4+ MB\n"
     ]
    }
   ],
   "source": [
    "df.info()"
   ]
  },
  {
   "cell_type": "code",
   "execution_count": 35,
   "metadata": {
    "execution": {
     "iopub.execute_input": "2023-04-25T01:12:44.205007Z",
     "iopub.status.busy": "2023-04-25T01:12:44.204649Z",
     "iopub.status.idle": "2023-04-25T01:12:44.240191Z",
     "shell.execute_reply": "2023-04-25T01:12:44.239013Z",
     "shell.execute_reply.started": "2023-04-25T01:12:44.204966Z"
    }
   },
   "outputs": [
    {
     "ename": "AttributeError",
     "evalue": "'Index' object has no attribute '_format_flat'",
     "output_type": "error",
     "traceback": [
      "\u001b[1;31m---------------------------------------------------------------------------\u001b[0m",
      "\u001b[1;31mAttributeError\u001b[0m                            Traceback (most recent call last)",
      "File \u001b[1;32m~\\AppData\\Roaming\\Python\\Python311\\site-packages\\IPython\\core\\formatters.py:347\u001b[0m, in \u001b[0;36mBaseFormatter.__call__\u001b[1;34m(self, obj)\u001b[0m\n\u001b[0;32m    345\u001b[0m     method \u001b[38;5;241m=\u001b[39m get_real_method(obj, \u001b[38;5;28mself\u001b[39m\u001b[38;5;241m.\u001b[39mprint_method)\n\u001b[0;32m    346\u001b[0m     \u001b[38;5;28;01mif\u001b[39;00m method \u001b[38;5;129;01mis\u001b[39;00m \u001b[38;5;129;01mnot\u001b[39;00m \u001b[38;5;28;01mNone\u001b[39;00m:\n\u001b[1;32m--> 347\u001b[0m         \u001b[38;5;28;01mreturn\u001b[39;00m \u001b[43mmethod\u001b[49m\u001b[43m(\u001b[49m\u001b[43m)\u001b[49m\n\u001b[0;32m    348\u001b[0m     \u001b[38;5;28;01mreturn\u001b[39;00m \u001b[38;5;28;01mNone\u001b[39;00m\n\u001b[0;32m    349\u001b[0m \u001b[38;5;28;01melse\u001b[39;00m:\n",
      "File \u001b[1;32mc:\\Users\\JCC\\anaconda3\\Lib\\site-packages\\pandas\\core\\frame.py:1136\u001b[0m, in \u001b[0;36m_repr_html_\u001b[1;34m(self)\u001b[0m\n\u001b[0;32m   1134\u001b[0m \u001b[38;5;66;03m# more generally, whatever we allow in NDArrayBackedExtensionBlock\u001b[39;00m\n\u001b[0;32m   1135\u001b[0m arr \u001b[38;5;241m=\u001b[39m cast(\u001b[38;5;124m\"\u001b[39m\u001b[38;5;124mnp.ndarray | DatetimeArray | TimedeltaArray | PeriodArray\u001b[39m\u001b[38;5;124m\"\u001b[39m, arr)\n\u001b[1;32m-> 1136\u001b[0m \u001b[38;5;28;01mreturn\u001b[39;00m arr\u001b[38;5;241m.\u001b[39mT\n",
      "File \u001b[1;32mc:\\Users\\JCC\\anaconda3\\Lib\\site-packages\\pandas\\io\\formats\\format.py:1108\u001b[0m, in \u001b[0;36mto_html\u001b[1;34m(self, buf, encoding, classes, notebook, border, table_id, render_links)\u001b[0m\n\u001b[0;32m   1079\u001b[0m \u001b[38;5;28;01mdef\u001b[39;00m \u001b[38;5;21mformat_array\u001b[39m(\n\u001b[0;32m   1080\u001b[0m     values: ArrayLike,\n\u001b[0;32m   1081\u001b[0m     formatter: Callable \u001b[38;5;241m|\u001b[39m \u001b[38;5;28;01mNone\u001b[39;00m,\n\u001b[1;32m   (...)\u001b[0m\n\u001b[0;32m   1090\u001b[0m     fallback_formatter: Callable \u001b[38;5;241m|\u001b[39m \u001b[38;5;28;01mNone\u001b[39;00m \u001b[38;5;241m=\u001b[39m \u001b[38;5;28;01mNone\u001b[39;00m,\n\u001b[0;32m   1091\u001b[0m ) \u001b[38;5;241m-\u001b[39m\u001b[38;5;241m>\u001b[39m \u001b[38;5;28mlist\u001b[39m[\u001b[38;5;28mstr\u001b[39m]:\n\u001b[0;32m   1092\u001b[0m \u001b[38;5;250m    \u001b[39m\u001b[38;5;124;03m\"\"\"\u001b[39;00m\n\u001b[0;32m   1093\u001b[0m \u001b[38;5;124;03m    Format an array for printing.\u001b[39;00m\n\u001b[0;32m   1094\u001b[0m \n\u001b[0;32m   1095\u001b[0m \u001b[38;5;124;03m    Parameters\u001b[39;00m\n\u001b[0;32m   1096\u001b[0m \u001b[38;5;124;03m    ----------\u001b[39;00m\n\u001b[0;32m   1097\u001b[0m \u001b[38;5;124;03m    values : np.ndarray or ExtensionArray\u001b[39;00m\n\u001b[0;32m   1098\u001b[0m \u001b[38;5;124;03m    formatter\u001b[39;00m\n\u001b[0;32m   1099\u001b[0m \u001b[38;5;124;03m    float_format\u001b[39;00m\n\u001b[0;32m   1100\u001b[0m \u001b[38;5;124;03m    na_rep\u001b[39;00m\n\u001b[0;32m   1101\u001b[0m \u001b[38;5;124;03m    digits\u001b[39;00m\n\u001b[0;32m   1102\u001b[0m \u001b[38;5;124;03m    space\u001b[39;00m\n\u001b[0;32m   1103\u001b[0m \u001b[38;5;124;03m    justify\u001b[39;00m\n\u001b[0;32m   1104\u001b[0m \u001b[38;5;124;03m    decimal\u001b[39;00m\n\u001b[0;32m   1105\u001b[0m \u001b[38;5;124;03m    leading_space : bool, optional, default True\u001b[39;00m\n\u001b[0;32m   1106\u001b[0m \u001b[38;5;124;03m        Whether the array should be formatted with a leading space.\u001b[39;00m\n\u001b[0;32m   1107\u001b[0m \u001b[38;5;124;03m        When an array as a column of a Series or DataFrame, we do want\u001b[39;00m\n\u001b[1;32m-> 1108\u001b[0m \u001b[38;5;124;03m        the leading space to pad between columns.\u001b[39;00m\n\u001b[0;32m   1109\u001b[0m \n\u001b[0;32m   1110\u001b[0m \u001b[38;5;124;03m        When formatting an Index subclass\u001b[39;00m\n\u001b[0;32m   1111\u001b[0m \u001b[38;5;124;03m        (e.g. IntervalIndex._get_values_for_csv), we don't want the\u001b[39;00m\n\u001b[0;32m   1112\u001b[0m \u001b[38;5;124;03m        leading space since it should be left-aligned.\u001b[39;00m\n\u001b[0;32m   1113\u001b[0m \u001b[38;5;124;03m    fallback_formatter\u001b[39;00m\n\u001b[0;32m   1114\u001b[0m \n\u001b[0;32m   1115\u001b[0m \u001b[38;5;124;03m    Returns\u001b[39;00m\n\u001b[0;32m   1116\u001b[0m \u001b[38;5;124;03m    -------\u001b[39;00m\n\u001b[0;32m   1117\u001b[0m \u001b[38;5;124;03m    List[str]\u001b[39;00m\n\u001b[0;32m   1118\u001b[0m \u001b[38;5;124;03m    \"\"\"\u001b[39;00m\n\u001b[0;32m   1119\u001b[0m     fmt_klass: \u001b[38;5;28mtype\u001b[39m[_GenericArrayFormatter]\n\u001b[0;32m   1120\u001b[0m     \u001b[38;5;28;01mif\u001b[39;00m lib\u001b[38;5;241m.\u001b[39mis_np_dtype(values\u001b[38;5;241m.\u001b[39mdtype, \u001b[38;5;124m\"\u001b[39m\u001b[38;5;124mM\u001b[39m\u001b[38;5;124m\"\u001b[39m):\n",
      "File \u001b[1;32mc:\\Users\\JCC\\anaconda3\\Lib\\site-packages\\pandas\\io\\formats\\html.py:88\u001b[0m, in \u001b[0;36mHTMLFormatter.to_string\u001b[1;34m(self)\u001b[0m\n\u001b[0;32m     87\u001b[0m \u001b[38;5;28;01mdef\u001b[39;00m \u001b[38;5;21mto_string\u001b[39m(\u001b[38;5;28mself\u001b[39m) \u001b[38;5;241m-\u001b[39m\u001b[38;5;241m>\u001b[39m \u001b[38;5;28mstr\u001b[39m:\n\u001b[1;32m---> 88\u001b[0m     lines \u001b[38;5;241m=\u001b[39m \u001b[38;5;28;43mself\u001b[39;49m\u001b[38;5;241;43m.\u001b[39;49m\u001b[43mrender\u001b[49m\u001b[43m(\u001b[49m\u001b[43m)\u001b[49m\n\u001b[0;32m     89\u001b[0m     \u001b[38;5;28;01mif\u001b[39;00m \u001b[38;5;28many\u001b[39m(\u001b[38;5;28misinstance\u001b[39m(x, \u001b[38;5;28mstr\u001b[39m) \u001b[38;5;28;01mfor\u001b[39;00m x \u001b[38;5;129;01min\u001b[39;00m lines):\n\u001b[0;32m     90\u001b[0m         lines \u001b[38;5;241m=\u001b[39m [\u001b[38;5;28mstr\u001b[39m(x) \u001b[38;5;28;01mfor\u001b[39;00m x \u001b[38;5;129;01min\u001b[39;00m lines]\n",
      "File \u001b[1;32mc:\\Users\\JCC\\anaconda3\\Lib\\site-packages\\pandas\\io\\formats\\html.py:644\u001b[0m, in \u001b[0;36mNotebookFormatter.render\u001b[1;34m(self)\u001b[0m\n\u001b[0;32m    642\u001b[0m \u001b[38;5;28mself\u001b[39m\u001b[38;5;241m.\u001b[39mwrite(\u001b[38;5;124m\"\u001b[39m\u001b[38;5;124m<div>\u001b[39m\u001b[38;5;124m\"\u001b[39m)\n\u001b[0;32m    643\u001b[0m \u001b[38;5;28mself\u001b[39m\u001b[38;5;241m.\u001b[39mwrite_style()\n\u001b[1;32m--> 644\u001b[0m \u001b[38;5;28;43msuper\u001b[39;49m\u001b[43m(\u001b[49m\u001b[43m)\u001b[49m\u001b[38;5;241;43m.\u001b[39;49m\u001b[43mrender\u001b[49m\u001b[43m(\u001b[49m\u001b[43m)\u001b[49m\n\u001b[0;32m    645\u001b[0m \u001b[38;5;28mself\u001b[39m\u001b[38;5;241m.\u001b[39mwrite(\u001b[38;5;124m\"\u001b[39m\u001b[38;5;124m</div>\u001b[39m\u001b[38;5;124m\"\u001b[39m)\n\u001b[0;32m    646\u001b[0m \u001b[38;5;28;01mreturn\u001b[39;00m \u001b[38;5;28mself\u001b[39m\u001b[38;5;241m.\u001b[39melements\n",
      "File \u001b[1;32mc:\\Users\\JCC\\anaconda3\\Lib\\site-packages\\pandas\\io\\formats\\html.py:94\u001b[0m, in \u001b[0;36mHTMLFormatter.render\u001b[1;34m(self)\u001b[0m\n\u001b[0;32m     93\u001b[0m \u001b[38;5;28;01mdef\u001b[39;00m \u001b[38;5;21mrender\u001b[39m(\u001b[38;5;28mself\u001b[39m) \u001b[38;5;241m-\u001b[39m\u001b[38;5;241m>\u001b[39m \u001b[38;5;28mlist\u001b[39m[\u001b[38;5;28mstr\u001b[39m]:\n\u001b[1;32m---> 94\u001b[0m     \u001b[38;5;28;43mself\u001b[39;49m\u001b[38;5;241;43m.\u001b[39;49m\u001b[43m_write_table\u001b[49m\u001b[43m(\u001b[49m\u001b[43m)\u001b[49m\n\u001b[0;32m     96\u001b[0m     \u001b[38;5;28;01mif\u001b[39;00m \u001b[38;5;28mself\u001b[39m\u001b[38;5;241m.\u001b[39mshould_show_dimensions:\n\u001b[0;32m     97\u001b[0m         by \u001b[38;5;241m=\u001b[39m \u001b[38;5;28mchr\u001b[39m(\u001b[38;5;241m215\u001b[39m)  \u001b[38;5;66;03m# ×  # noqa: RUF003\u001b[39;00m\n",
      "File \u001b[1;32mc:\\Users\\JCC\\anaconda3\\Lib\\site-packages\\pandas\\io\\formats\\html.py:267\u001b[0m, in \u001b[0;36mHTMLFormatter._write_table\u001b[1;34m(self, indent)\u001b[0m\n\u001b[0;32m    261\u001b[0m \u001b[38;5;28mself\u001b[39m\u001b[38;5;241m.\u001b[39mwrite(\n\u001b[0;32m    262\u001b[0m     \u001b[38;5;124mf\u001b[39m\u001b[38;5;124m'\u001b[39m\u001b[38;5;124m<table\u001b[39m\u001b[38;5;132;01m{\u001b[39;00mborder_attr\u001b[38;5;132;01m}\u001b[39;00m\u001b[38;5;124m class=\u001b[39m\u001b[38;5;124m\"\u001b[39m\u001b[38;5;132;01m{\u001b[39;00m\u001b[38;5;124m\"\u001b[39m\u001b[38;5;124m \u001b[39m\u001b[38;5;124m\"\u001b[39m\u001b[38;5;241m.\u001b[39mjoin(_classes)\u001b[38;5;132;01m}\u001b[39;00m\u001b[38;5;124m\"\u001b[39m\u001b[38;5;132;01m{\u001b[39;00mid_section\u001b[38;5;132;01m}\u001b[39;00m\u001b[38;5;124m>\u001b[39m\u001b[38;5;124m'\u001b[39m,\n\u001b[0;32m    263\u001b[0m     indent,\n\u001b[0;32m    264\u001b[0m )\n\u001b[0;32m    266\u001b[0m \u001b[38;5;28;01mif\u001b[39;00m \u001b[38;5;28mself\u001b[39m\u001b[38;5;241m.\u001b[39mfmt\u001b[38;5;241m.\u001b[39mheader \u001b[38;5;129;01mor\u001b[39;00m \u001b[38;5;28mself\u001b[39m\u001b[38;5;241m.\u001b[39mshow_row_idx_names:\n\u001b[1;32m--> 267\u001b[0m     \u001b[38;5;28;43mself\u001b[39;49m\u001b[38;5;241;43m.\u001b[39;49m\u001b[43m_write_header\u001b[49m\u001b[43m(\u001b[49m\u001b[43mindent\u001b[49m\u001b[43m \u001b[49m\u001b[38;5;241;43m+\u001b[39;49m\u001b[43m \u001b[49m\u001b[38;5;28;43mself\u001b[39;49m\u001b[38;5;241;43m.\u001b[39;49m\u001b[43mindent_delta\u001b[49m\u001b[43m)\u001b[49m\n\u001b[0;32m    269\u001b[0m \u001b[38;5;28mself\u001b[39m\u001b[38;5;241m.\u001b[39m_write_body(indent \u001b[38;5;241m+\u001b[39m \u001b[38;5;28mself\u001b[39m\u001b[38;5;241m.\u001b[39mindent_delta)\n\u001b[0;32m    271\u001b[0m \u001b[38;5;28mself\u001b[39m\u001b[38;5;241m.\u001b[39mwrite(\u001b[38;5;124m\"\u001b[39m\u001b[38;5;124m</table>\u001b[39m\u001b[38;5;124m\"\u001b[39m, indent)\n",
      "File \u001b[1;32mc:\\Users\\JCC\\anaconda3\\Lib\\site-packages\\pandas\\io\\formats\\html.py:403\u001b[0m, in \u001b[0;36mHTMLFormatter._write_header\u001b[1;34m(self, indent)\u001b[0m\n\u001b[0;32m    400\u001b[0m \u001b[38;5;28mself\u001b[39m\u001b[38;5;241m.\u001b[39mwrite(\u001b[38;5;124m\"\u001b[39m\u001b[38;5;124m<thead>\u001b[39m\u001b[38;5;124m\"\u001b[39m, indent)\n\u001b[0;32m    402\u001b[0m \u001b[38;5;28;01mif\u001b[39;00m \u001b[38;5;28mself\u001b[39m\u001b[38;5;241m.\u001b[39mfmt\u001b[38;5;241m.\u001b[39mheader:\n\u001b[1;32m--> 403\u001b[0m     \u001b[38;5;28;43mself\u001b[39;49m\u001b[38;5;241;43m.\u001b[39;49m\u001b[43m_write_col_header\u001b[49m\u001b[43m(\u001b[49m\u001b[43mindent\u001b[49m\u001b[43m \u001b[49m\u001b[38;5;241;43m+\u001b[39;49m\u001b[43m \u001b[49m\u001b[38;5;28;43mself\u001b[39;49m\u001b[38;5;241;43m.\u001b[39;49m\u001b[43mindent_delta\u001b[49m\u001b[43m)\u001b[49m\n\u001b[0;32m    405\u001b[0m \u001b[38;5;28;01mif\u001b[39;00m \u001b[38;5;28mself\u001b[39m\u001b[38;5;241m.\u001b[39mshow_row_idx_names:\n\u001b[0;32m    406\u001b[0m     \u001b[38;5;28mself\u001b[39m\u001b[38;5;241m.\u001b[39m_write_row_header(indent \u001b[38;5;241m+\u001b[39m \u001b[38;5;28mself\u001b[39m\u001b[38;5;241m.\u001b[39mindent_delta)\n",
      "File \u001b[1;32mc:\\Users\\JCC\\anaconda3\\Lib\\site-packages\\pandas\\io\\formats\\html.py:383\u001b[0m, in \u001b[0;36mHTMLFormatter._write_col_header\u001b[1;34m(self, indent)\u001b[0m\n\u001b[0;32m    381\u001b[0m     \u001b[38;5;28;01melse\u001b[39;00m:\n\u001b[0;32m    382\u001b[0m         row\u001b[38;5;241m.\u001b[39mappend(\u001b[38;5;124m\"\u001b[39m\u001b[38;5;124m\"\u001b[39m)\n\u001b[1;32m--> 383\u001b[0m row\u001b[38;5;241m.\u001b[39mextend(\u001b[38;5;28;43mself\u001b[39;49m\u001b[38;5;241;43m.\u001b[39;49m\u001b[43m_get_columns_formatted_values\u001b[49m\u001b[43m(\u001b[49m\u001b[43m)\u001b[49m)\n\u001b[0;32m    384\u001b[0m align \u001b[38;5;241m=\u001b[39m \u001b[38;5;28mself\u001b[39m\u001b[38;5;241m.\u001b[39mfmt\u001b[38;5;241m.\u001b[39mjustify\n\u001b[0;32m    386\u001b[0m \u001b[38;5;28;01mif\u001b[39;00m is_truncated_horizontally:\n",
      "File \u001b[1;32mc:\\Users\\JCC\\anaconda3\\Lib\\site-packages\\pandas\\io\\formats\\html.py:611\u001b[0m, in \u001b[0;36mNotebookFormatter._get_columns_formatted_values\u001b[1;34m(self)\u001b[0m\n\u001b[0;32m    609\u001b[0m \u001b[38;5;28;01mdef\u001b[39;00m \u001b[38;5;21m_get_columns_formatted_values\u001b[39m(\u001b[38;5;28mself\u001b[39m) \u001b[38;5;241m-\u001b[39m\u001b[38;5;241m>\u001b[39m \u001b[38;5;28mlist\u001b[39m[\u001b[38;5;28mstr\u001b[39m]:\n\u001b[0;32m    610\u001b[0m     \u001b[38;5;66;03m# only reached with non-Multi Index\u001b[39;00m\n\u001b[1;32m--> 611\u001b[0m     \u001b[38;5;28;01mreturn\u001b[39;00m \u001b[38;5;28;43mself\u001b[39;49m\u001b[38;5;241;43m.\u001b[39;49m\u001b[43mcolumns\u001b[49m\u001b[38;5;241;43m.\u001b[39;49m\u001b[43m_format_flat\u001b[49m(include_name\u001b[38;5;241m=\u001b[39m\u001b[38;5;28;01mFalse\u001b[39;00m)\n",
      "\u001b[1;31mAttributeError\u001b[0m: 'Index' object has no attribute '_format_flat'"
     ]
    },
    {
     "data": {
      "text/plain": [
       "              Rank     Episodes        Rating  Release_year     End_year\n",
       "count  18495.00000  9501.000000  15364.000000  18112.000000  2854.000000\n",
       "mean    9248.00000    20.920850      3.355133   2006.520318  2004.256132\n",
       "std     5339.19095    37.990858      0.400624     15.189537    13.257484\n",
       "min        1.00000     1.000000      0.960000   1907.000000  1962.000000\n",
       "25%     4624.50000     2.000000      3.130000   2001.000000  1996.000000\n",
       "50%     9248.00000    12.000000      3.360000   2012.000000  2007.000000\n",
       "75%    13871.50000    26.000000      3.590000   2017.000000  2015.000000\n",
       "max    18495.00000   800.000000      4.600000   2023.000000  2022.000000"
      ]
     },
     "execution_count": 35,
     "metadata": {},
     "output_type": "execute_result"
    }
   ],
   "source": [
    "df.describe()"
   ]
  },
  {
   "cell_type": "code",
   "execution_count": 36,
   "metadata": {
    "execution": {
     "iopub.execute_input": "2023-04-25T01:12:44.242198Z",
     "iopub.status.busy": "2023-04-25T01:12:44.241755Z",
     "iopub.status.idle": "2023-04-25T01:12:44.248277Z",
     "shell.execute_reply": "2023-04-25T01:12:44.247343Z",
     "shell.execute_reply.started": "2023-04-25T01:12:44.242162Z"
    }
   },
   "outputs": [
    {
     "data": {
      "text/plain": [
       "'Drama, Fantasy, Romance, Shoujo, Animal Transformation, Contemporary Fantasy, Curse, Dysfunctional Families, Mental Illness, Orphans, Based on a Manga, Emotional Abuse,, Mature Themes,, Physical Abuse,, Suicide,, Violence,, Domestic Abuse'"
      ]
     },
     "execution_count": 36,
     "metadata": {},
     "output_type": "execute_result"
    }
   ],
   "source": [
    "df['Tags'][1]"
   ]
  },
  {
   "cell_type": "code",
   "execution_count": 37,
   "metadata": {
    "execution": {
     "iopub.execute_input": "2023-04-25T01:12:44.24982Z",
     "iopub.status.busy": "2023-04-25T01:12:44.249458Z",
     "iopub.status.idle": "2023-04-25T01:12:44.261051Z",
     "shell.execute_reply": "2023-04-25T01:12:44.260219Z",
     "shell.execute_reply.started": "2023-04-25T01:12:44.249765Z"
    }
   },
   "outputs": [
    {
     "data": {
      "text/plain": [
       "\"'The final arc of Fruits Basket.'\""
      ]
     },
     "execution_count": 37,
     "metadata": {},
     "output_type": "execute_result"
    }
   ],
   "source": [
    "df['Description'][1]"
   ]
  },
  {
   "cell_type": "code",
   "execution_count": 38,
   "metadata": {
    "execution": {
     "iopub.execute_input": "2023-04-25T01:12:44.262663Z",
     "iopub.status.busy": "2023-04-25T01:12:44.262321Z",
     "iopub.status.idle": "2023-04-25T01:12:44.275053Z",
     "shell.execute_reply": "2023-04-25T01:12:44.27382Z",
     "shell.execute_reply.started": "2023-04-25T01:12:44.262623Z"
    }
   },
   "outputs": [
    {
     "data": {
      "text/plain": [
       "'TMS Entertainment'"
      ]
     },
     "execution_count": 38,
     "metadata": {},
     "output_type": "execute_result"
    }
   ],
   "source": [
    "df['Studio'][1]"
   ]
  },
  {
   "cell_type": "markdown",
   "metadata": {},
   "source": [
    "A look at the average rating of each title name."
   ]
  },
  {
   "cell_type": "code",
   "execution_count": 39,
   "metadata": {
    "execution": {
     "iopub.execute_input": "2023-04-25T01:12:44.278184Z",
     "iopub.status.busy": "2023-04-25T01:12:44.27771Z",
     "iopub.status.idle": "2023-04-25T01:12:44.314199Z",
     "shell.execute_reply": "2023-04-25T01:12:44.313031Z",
     "shell.execute_reply.started": "2023-04-25T01:12:44.278149Z"
    }
   },
   "outputs": [
    {
     "data": {
      "text/plain": [
       "Name\n",
       "Fruits Basket the Final Season                                 4.60\n",
       "Demon Slayer: Kimetsu no Yaiba - Entertainment District Arc    4.60\n",
       "Mo Dao Zu Shi 3                                                4.58\n",
       "Fullmetal Alchemist: Brotherhood                               4.58\n",
       "Attack on Titan 3rd Season: Part II                            4.57\n",
       "Attack on Titan The Final Season: Part II                      4.56\n",
       "Jujutsu Kaisen                                                 4.56\n",
       "Attack on Titan The Final Season                               4.55\n",
       "Demon Slayer: Kimetsu no Yaiba Movie - Mugen Train             4.54\n",
       "Haikyuu!! Karasuno High School vs Shiratorizawa Academy        4.53\n",
       "Name: Rating, dtype: float64"
      ]
     },
     "execution_count": 39,
     "metadata": {},
     "output_type": "execute_result"
    }
   ],
   "source": [
    "df.groupby('Name')['Rating'].mean().sort_values(ascending= False).head(10)"
   ]
  },
  {
   "cell_type": "markdown",
   "metadata": {},
   "source": [
    "# Preprocessing the Data"
   ]
  },
  {
   "cell_type": "markdown",
   "metadata": {},
   "source": [
    "To prepare the data, only certain columns will be used for building the recommendation system. Furthermore, the variables will be looked into to determine what is and is not in the variables."
   ]
  },
  {
   "cell_type": "code",
   "execution_count": 40,
   "metadata": {
    "execution": {
     "iopub.execute_input": "2023-04-25T01:12:44.315797Z",
     "iopub.status.busy": "2023-04-25T01:12:44.315467Z",
     "iopub.status.idle": "2023-04-25T01:12:44.324995Z",
     "shell.execute_reply": "2023-04-25T01:12:44.32378Z",
     "shell.execute_reply.started": "2023-04-25T01:12:44.315766Z"
    }
   },
   "outputs": [],
   "source": [
    "anime_df = df[['Rank', 'Name', 'Type', 'Studio', 'Tags', 'Rating', 'Description']]"
   ]
  },
  {
   "cell_type": "code",
   "execution_count": 41,
   "metadata": {
    "execution": {
     "iopub.execute_input": "2023-04-25T01:12:44.330803Z",
     "iopub.status.busy": "2023-04-25T01:12:44.33039Z",
     "iopub.status.idle": "2023-04-25T01:12:44.347003Z",
     "shell.execute_reply": "2023-04-25T01:12:44.345709Z",
     "shell.execute_reply.started": "2023-04-25T01:12:44.330763Z"
    }
   },
   "outputs": [
    {
     "ename": "AttributeError",
     "evalue": "'Index' object has no attribute '_format_flat'",
     "output_type": "error",
     "traceback": [
      "\u001b[1;31m---------------------------------------------------------------------------\u001b[0m",
      "\u001b[1;31mAttributeError\u001b[0m                            Traceback (most recent call last)",
      "File \u001b[1;32m~\\AppData\\Roaming\\Python\\Python311\\site-packages\\IPython\\core\\formatters.py:347\u001b[0m, in \u001b[0;36mBaseFormatter.__call__\u001b[1;34m(self, obj)\u001b[0m\n\u001b[0;32m    345\u001b[0m     method \u001b[38;5;241m=\u001b[39m get_real_method(obj, \u001b[38;5;28mself\u001b[39m\u001b[38;5;241m.\u001b[39mprint_method)\n\u001b[0;32m    346\u001b[0m     \u001b[38;5;28;01mif\u001b[39;00m method \u001b[38;5;129;01mis\u001b[39;00m \u001b[38;5;129;01mnot\u001b[39;00m \u001b[38;5;28;01mNone\u001b[39;00m:\n\u001b[1;32m--> 347\u001b[0m         \u001b[38;5;28;01mreturn\u001b[39;00m \u001b[43mmethod\u001b[49m\u001b[43m(\u001b[49m\u001b[43m)\u001b[49m\n\u001b[0;32m    348\u001b[0m     \u001b[38;5;28;01mreturn\u001b[39;00m \u001b[38;5;28;01mNone\u001b[39;00m\n\u001b[0;32m    349\u001b[0m \u001b[38;5;28;01melse\u001b[39;00m:\n",
      "File \u001b[1;32mc:\\Users\\JCC\\anaconda3\\Lib\\site-packages\\pandas\\core\\frame.py:1136\u001b[0m, in \u001b[0;36m_repr_html_\u001b[1;34m(self)\u001b[0m\n\u001b[0;32m   1134\u001b[0m \u001b[38;5;66;03m# more generally, whatever we allow in NDArrayBackedExtensionBlock\u001b[39;00m\n\u001b[0;32m   1135\u001b[0m arr \u001b[38;5;241m=\u001b[39m cast(\u001b[38;5;124m\"\u001b[39m\u001b[38;5;124mnp.ndarray | DatetimeArray | TimedeltaArray | PeriodArray\u001b[39m\u001b[38;5;124m\"\u001b[39m, arr)\n\u001b[1;32m-> 1136\u001b[0m \u001b[38;5;28;01mreturn\u001b[39;00m arr\u001b[38;5;241m.\u001b[39mT\n",
      "File \u001b[1;32mc:\\Users\\JCC\\anaconda3\\Lib\\site-packages\\pandas\\io\\formats\\format.py:1108\u001b[0m, in \u001b[0;36mto_html\u001b[1;34m(self, buf, encoding, classes, notebook, border, table_id, render_links)\u001b[0m\n\u001b[0;32m   1079\u001b[0m \u001b[38;5;28;01mdef\u001b[39;00m \u001b[38;5;21mformat_array\u001b[39m(\n\u001b[0;32m   1080\u001b[0m     values: ArrayLike,\n\u001b[0;32m   1081\u001b[0m     formatter: Callable \u001b[38;5;241m|\u001b[39m \u001b[38;5;28;01mNone\u001b[39;00m,\n\u001b[1;32m   (...)\u001b[0m\n\u001b[0;32m   1090\u001b[0m     fallback_formatter: Callable \u001b[38;5;241m|\u001b[39m \u001b[38;5;28;01mNone\u001b[39;00m \u001b[38;5;241m=\u001b[39m \u001b[38;5;28;01mNone\u001b[39;00m,\n\u001b[0;32m   1091\u001b[0m ) \u001b[38;5;241m-\u001b[39m\u001b[38;5;241m>\u001b[39m \u001b[38;5;28mlist\u001b[39m[\u001b[38;5;28mstr\u001b[39m]:\n\u001b[0;32m   1092\u001b[0m \u001b[38;5;250m    \u001b[39m\u001b[38;5;124;03m\"\"\"\u001b[39;00m\n\u001b[0;32m   1093\u001b[0m \u001b[38;5;124;03m    Format an array for printing.\u001b[39;00m\n\u001b[0;32m   1094\u001b[0m \n\u001b[0;32m   1095\u001b[0m \u001b[38;5;124;03m    Parameters\u001b[39;00m\n\u001b[0;32m   1096\u001b[0m \u001b[38;5;124;03m    ----------\u001b[39;00m\n\u001b[0;32m   1097\u001b[0m \u001b[38;5;124;03m    values : np.ndarray or ExtensionArray\u001b[39;00m\n\u001b[0;32m   1098\u001b[0m \u001b[38;5;124;03m    formatter\u001b[39;00m\n\u001b[0;32m   1099\u001b[0m \u001b[38;5;124;03m    float_format\u001b[39;00m\n\u001b[0;32m   1100\u001b[0m \u001b[38;5;124;03m    na_rep\u001b[39;00m\n\u001b[0;32m   1101\u001b[0m \u001b[38;5;124;03m    digits\u001b[39;00m\n\u001b[0;32m   1102\u001b[0m \u001b[38;5;124;03m    space\u001b[39;00m\n\u001b[0;32m   1103\u001b[0m \u001b[38;5;124;03m    justify\u001b[39;00m\n\u001b[0;32m   1104\u001b[0m \u001b[38;5;124;03m    decimal\u001b[39;00m\n\u001b[0;32m   1105\u001b[0m \u001b[38;5;124;03m    leading_space : bool, optional, default True\u001b[39;00m\n\u001b[0;32m   1106\u001b[0m \u001b[38;5;124;03m        Whether the array should be formatted with a leading space.\u001b[39;00m\n\u001b[0;32m   1107\u001b[0m \u001b[38;5;124;03m        When an array as a column of a Series or DataFrame, we do want\u001b[39;00m\n\u001b[1;32m-> 1108\u001b[0m \u001b[38;5;124;03m        the leading space to pad between columns.\u001b[39;00m\n\u001b[0;32m   1109\u001b[0m \n\u001b[0;32m   1110\u001b[0m \u001b[38;5;124;03m        When formatting an Index subclass\u001b[39;00m\n\u001b[0;32m   1111\u001b[0m \u001b[38;5;124;03m        (e.g. IntervalIndex._get_values_for_csv), we don't want the\u001b[39;00m\n\u001b[0;32m   1112\u001b[0m \u001b[38;5;124;03m        leading space since it should be left-aligned.\u001b[39;00m\n\u001b[0;32m   1113\u001b[0m \u001b[38;5;124;03m    fallback_formatter\u001b[39;00m\n\u001b[0;32m   1114\u001b[0m \n\u001b[0;32m   1115\u001b[0m \u001b[38;5;124;03m    Returns\u001b[39;00m\n\u001b[0;32m   1116\u001b[0m \u001b[38;5;124;03m    -------\u001b[39;00m\n\u001b[0;32m   1117\u001b[0m \u001b[38;5;124;03m    List[str]\u001b[39;00m\n\u001b[0;32m   1118\u001b[0m \u001b[38;5;124;03m    \"\"\"\u001b[39;00m\n\u001b[0;32m   1119\u001b[0m     fmt_klass: \u001b[38;5;28mtype\u001b[39m[_GenericArrayFormatter]\n\u001b[0;32m   1120\u001b[0m     \u001b[38;5;28;01mif\u001b[39;00m lib\u001b[38;5;241m.\u001b[39mis_np_dtype(values\u001b[38;5;241m.\u001b[39mdtype, \u001b[38;5;124m\"\u001b[39m\u001b[38;5;124mM\u001b[39m\u001b[38;5;124m\"\u001b[39m):\n",
      "File \u001b[1;32mc:\\Users\\JCC\\anaconda3\\Lib\\site-packages\\pandas\\io\\formats\\html.py:88\u001b[0m, in \u001b[0;36mHTMLFormatter.to_string\u001b[1;34m(self)\u001b[0m\n\u001b[0;32m     87\u001b[0m \u001b[38;5;28;01mdef\u001b[39;00m \u001b[38;5;21mto_string\u001b[39m(\u001b[38;5;28mself\u001b[39m) \u001b[38;5;241m-\u001b[39m\u001b[38;5;241m>\u001b[39m \u001b[38;5;28mstr\u001b[39m:\n\u001b[1;32m---> 88\u001b[0m     lines \u001b[38;5;241m=\u001b[39m \u001b[38;5;28;43mself\u001b[39;49m\u001b[38;5;241;43m.\u001b[39;49m\u001b[43mrender\u001b[49m\u001b[43m(\u001b[49m\u001b[43m)\u001b[49m\n\u001b[0;32m     89\u001b[0m     \u001b[38;5;28;01mif\u001b[39;00m \u001b[38;5;28many\u001b[39m(\u001b[38;5;28misinstance\u001b[39m(x, \u001b[38;5;28mstr\u001b[39m) \u001b[38;5;28;01mfor\u001b[39;00m x \u001b[38;5;129;01min\u001b[39;00m lines):\n\u001b[0;32m     90\u001b[0m         lines \u001b[38;5;241m=\u001b[39m [\u001b[38;5;28mstr\u001b[39m(x) \u001b[38;5;28;01mfor\u001b[39;00m x \u001b[38;5;129;01min\u001b[39;00m lines]\n",
      "File \u001b[1;32mc:\\Users\\JCC\\anaconda3\\Lib\\site-packages\\pandas\\io\\formats\\html.py:644\u001b[0m, in \u001b[0;36mNotebookFormatter.render\u001b[1;34m(self)\u001b[0m\n\u001b[0;32m    642\u001b[0m \u001b[38;5;28mself\u001b[39m\u001b[38;5;241m.\u001b[39mwrite(\u001b[38;5;124m\"\u001b[39m\u001b[38;5;124m<div>\u001b[39m\u001b[38;5;124m\"\u001b[39m)\n\u001b[0;32m    643\u001b[0m \u001b[38;5;28mself\u001b[39m\u001b[38;5;241m.\u001b[39mwrite_style()\n\u001b[1;32m--> 644\u001b[0m \u001b[38;5;28;43msuper\u001b[39;49m\u001b[43m(\u001b[49m\u001b[43m)\u001b[49m\u001b[38;5;241;43m.\u001b[39;49m\u001b[43mrender\u001b[49m\u001b[43m(\u001b[49m\u001b[43m)\u001b[49m\n\u001b[0;32m    645\u001b[0m \u001b[38;5;28mself\u001b[39m\u001b[38;5;241m.\u001b[39mwrite(\u001b[38;5;124m\"\u001b[39m\u001b[38;5;124m</div>\u001b[39m\u001b[38;5;124m\"\u001b[39m)\n\u001b[0;32m    646\u001b[0m \u001b[38;5;28;01mreturn\u001b[39;00m \u001b[38;5;28mself\u001b[39m\u001b[38;5;241m.\u001b[39melements\n",
      "File \u001b[1;32mc:\\Users\\JCC\\anaconda3\\Lib\\site-packages\\pandas\\io\\formats\\html.py:94\u001b[0m, in \u001b[0;36mHTMLFormatter.render\u001b[1;34m(self)\u001b[0m\n\u001b[0;32m     93\u001b[0m \u001b[38;5;28;01mdef\u001b[39;00m \u001b[38;5;21mrender\u001b[39m(\u001b[38;5;28mself\u001b[39m) \u001b[38;5;241m-\u001b[39m\u001b[38;5;241m>\u001b[39m \u001b[38;5;28mlist\u001b[39m[\u001b[38;5;28mstr\u001b[39m]:\n\u001b[1;32m---> 94\u001b[0m     \u001b[38;5;28;43mself\u001b[39;49m\u001b[38;5;241;43m.\u001b[39;49m\u001b[43m_write_table\u001b[49m\u001b[43m(\u001b[49m\u001b[43m)\u001b[49m\n\u001b[0;32m     96\u001b[0m     \u001b[38;5;28;01mif\u001b[39;00m \u001b[38;5;28mself\u001b[39m\u001b[38;5;241m.\u001b[39mshould_show_dimensions:\n\u001b[0;32m     97\u001b[0m         by \u001b[38;5;241m=\u001b[39m \u001b[38;5;28mchr\u001b[39m(\u001b[38;5;241m215\u001b[39m)  \u001b[38;5;66;03m# ×  # noqa: RUF003\u001b[39;00m\n",
      "File \u001b[1;32mc:\\Users\\JCC\\anaconda3\\Lib\\site-packages\\pandas\\io\\formats\\html.py:267\u001b[0m, in \u001b[0;36mHTMLFormatter._write_table\u001b[1;34m(self, indent)\u001b[0m\n\u001b[0;32m    261\u001b[0m \u001b[38;5;28mself\u001b[39m\u001b[38;5;241m.\u001b[39mwrite(\n\u001b[0;32m    262\u001b[0m     \u001b[38;5;124mf\u001b[39m\u001b[38;5;124m'\u001b[39m\u001b[38;5;124m<table\u001b[39m\u001b[38;5;132;01m{\u001b[39;00mborder_attr\u001b[38;5;132;01m}\u001b[39;00m\u001b[38;5;124m class=\u001b[39m\u001b[38;5;124m\"\u001b[39m\u001b[38;5;132;01m{\u001b[39;00m\u001b[38;5;124m\"\u001b[39m\u001b[38;5;124m \u001b[39m\u001b[38;5;124m\"\u001b[39m\u001b[38;5;241m.\u001b[39mjoin(_classes)\u001b[38;5;132;01m}\u001b[39;00m\u001b[38;5;124m\"\u001b[39m\u001b[38;5;132;01m{\u001b[39;00mid_section\u001b[38;5;132;01m}\u001b[39;00m\u001b[38;5;124m>\u001b[39m\u001b[38;5;124m'\u001b[39m,\n\u001b[0;32m    263\u001b[0m     indent,\n\u001b[0;32m    264\u001b[0m )\n\u001b[0;32m    266\u001b[0m \u001b[38;5;28;01mif\u001b[39;00m \u001b[38;5;28mself\u001b[39m\u001b[38;5;241m.\u001b[39mfmt\u001b[38;5;241m.\u001b[39mheader \u001b[38;5;129;01mor\u001b[39;00m \u001b[38;5;28mself\u001b[39m\u001b[38;5;241m.\u001b[39mshow_row_idx_names:\n\u001b[1;32m--> 267\u001b[0m     \u001b[38;5;28;43mself\u001b[39;49m\u001b[38;5;241;43m.\u001b[39;49m\u001b[43m_write_header\u001b[49m\u001b[43m(\u001b[49m\u001b[43mindent\u001b[49m\u001b[43m \u001b[49m\u001b[38;5;241;43m+\u001b[39;49m\u001b[43m \u001b[49m\u001b[38;5;28;43mself\u001b[39;49m\u001b[38;5;241;43m.\u001b[39;49m\u001b[43mindent_delta\u001b[49m\u001b[43m)\u001b[49m\n\u001b[0;32m    269\u001b[0m \u001b[38;5;28mself\u001b[39m\u001b[38;5;241m.\u001b[39m_write_body(indent \u001b[38;5;241m+\u001b[39m \u001b[38;5;28mself\u001b[39m\u001b[38;5;241m.\u001b[39mindent_delta)\n\u001b[0;32m    271\u001b[0m \u001b[38;5;28mself\u001b[39m\u001b[38;5;241m.\u001b[39mwrite(\u001b[38;5;124m\"\u001b[39m\u001b[38;5;124m</table>\u001b[39m\u001b[38;5;124m\"\u001b[39m, indent)\n",
      "File \u001b[1;32mc:\\Users\\JCC\\anaconda3\\Lib\\site-packages\\pandas\\io\\formats\\html.py:403\u001b[0m, in \u001b[0;36mHTMLFormatter._write_header\u001b[1;34m(self, indent)\u001b[0m\n\u001b[0;32m    400\u001b[0m \u001b[38;5;28mself\u001b[39m\u001b[38;5;241m.\u001b[39mwrite(\u001b[38;5;124m\"\u001b[39m\u001b[38;5;124m<thead>\u001b[39m\u001b[38;5;124m\"\u001b[39m, indent)\n\u001b[0;32m    402\u001b[0m \u001b[38;5;28;01mif\u001b[39;00m \u001b[38;5;28mself\u001b[39m\u001b[38;5;241m.\u001b[39mfmt\u001b[38;5;241m.\u001b[39mheader:\n\u001b[1;32m--> 403\u001b[0m     \u001b[38;5;28;43mself\u001b[39;49m\u001b[38;5;241;43m.\u001b[39;49m\u001b[43m_write_col_header\u001b[49m\u001b[43m(\u001b[49m\u001b[43mindent\u001b[49m\u001b[43m \u001b[49m\u001b[38;5;241;43m+\u001b[39;49m\u001b[43m \u001b[49m\u001b[38;5;28;43mself\u001b[39;49m\u001b[38;5;241;43m.\u001b[39;49m\u001b[43mindent_delta\u001b[49m\u001b[43m)\u001b[49m\n\u001b[0;32m    405\u001b[0m \u001b[38;5;28;01mif\u001b[39;00m \u001b[38;5;28mself\u001b[39m\u001b[38;5;241m.\u001b[39mshow_row_idx_names:\n\u001b[0;32m    406\u001b[0m     \u001b[38;5;28mself\u001b[39m\u001b[38;5;241m.\u001b[39m_write_row_header(indent \u001b[38;5;241m+\u001b[39m \u001b[38;5;28mself\u001b[39m\u001b[38;5;241m.\u001b[39mindent_delta)\n",
      "File \u001b[1;32mc:\\Users\\JCC\\anaconda3\\Lib\\site-packages\\pandas\\io\\formats\\html.py:383\u001b[0m, in \u001b[0;36mHTMLFormatter._write_col_header\u001b[1;34m(self, indent)\u001b[0m\n\u001b[0;32m    381\u001b[0m     \u001b[38;5;28;01melse\u001b[39;00m:\n\u001b[0;32m    382\u001b[0m         row\u001b[38;5;241m.\u001b[39mappend(\u001b[38;5;124m\"\u001b[39m\u001b[38;5;124m\"\u001b[39m)\n\u001b[1;32m--> 383\u001b[0m row\u001b[38;5;241m.\u001b[39mextend(\u001b[38;5;28;43mself\u001b[39;49m\u001b[38;5;241;43m.\u001b[39;49m\u001b[43m_get_columns_formatted_values\u001b[49m\u001b[43m(\u001b[49m\u001b[43m)\u001b[49m)\n\u001b[0;32m    384\u001b[0m align \u001b[38;5;241m=\u001b[39m \u001b[38;5;28mself\u001b[39m\u001b[38;5;241m.\u001b[39mfmt\u001b[38;5;241m.\u001b[39mjustify\n\u001b[0;32m    386\u001b[0m \u001b[38;5;28;01mif\u001b[39;00m is_truncated_horizontally:\n",
      "File \u001b[1;32mc:\\Users\\JCC\\anaconda3\\Lib\\site-packages\\pandas\\io\\formats\\html.py:611\u001b[0m, in \u001b[0;36mNotebookFormatter._get_columns_formatted_values\u001b[1;34m(self)\u001b[0m\n\u001b[0;32m    609\u001b[0m \u001b[38;5;28;01mdef\u001b[39;00m \u001b[38;5;21m_get_columns_formatted_values\u001b[39m(\u001b[38;5;28mself\u001b[39m) \u001b[38;5;241m-\u001b[39m\u001b[38;5;241m>\u001b[39m \u001b[38;5;28mlist\u001b[39m[\u001b[38;5;28mstr\u001b[39m]:\n\u001b[0;32m    610\u001b[0m     \u001b[38;5;66;03m# only reached with non-Multi Index\u001b[39;00m\n\u001b[1;32m--> 611\u001b[0m     \u001b[38;5;28;01mreturn\u001b[39;00m \u001b[38;5;28;43mself\u001b[39;49m\u001b[38;5;241;43m.\u001b[39;49m\u001b[43mcolumns\u001b[49m\u001b[38;5;241;43m.\u001b[39;49m\u001b[43m_format_flat\u001b[49m(include_name\u001b[38;5;241m=\u001b[39m\u001b[38;5;28;01mFalse\u001b[39;00m)\n",
      "\u001b[1;31mAttributeError\u001b[0m: 'Index' object has no attribute '_format_flat'"
     ]
    },
    {
     "data": {
      "text/plain": [
       "   Rank                                               Name   Type  \\\n",
       "0     1  Demon Slayer: Kimetsu no Yaiba - Entertainment...  TV      \n",
       "1     2                     Fruits Basket the Final Season  TV      \n",
       "2     3                                    Mo Dao Zu Shi 3  Web     \n",
       "3     4                   Fullmetal Alchemist: Brotherhood  TV      \n",
       "4     5                Attack on Titan 3rd Season: Part II  TV      \n",
       "\n",
       "              Studio                                               Tags  \\\n",
       "0           ufotable  Action, Adventure, Fantasy, Shounen, Demons, H...   \n",
       "1  TMS Entertainment  Drama, Fantasy, Romance, Shoujo, Animal Transf...   \n",
       "2   B.C MAY PICTURES  Fantasy, Ancient China, Chinese Animation, Cul...   \n",
       "3              Bones  Action, Adventure, Drama, Fantasy, Mystery, Sh...   \n",
       "4         WIT Studio  Action, Fantasy, Horror, Shounen, Dark Fantasy...   \n",
       "\n",
       "   Rating                                        Description  \n",
       "0    4.60  'Tanjiro and his friends accompany the Hashira...  \n",
       "1    4.60                  'The final arc of Fruits Basket.'  \n",
       "2    4.58               'The third season of Mo Dao Zu Shi.'  \n",
       "3    4.58  \"The foundation of alchemy is based on the law...  \n",
       "4    4.57  'The battle to retake Wall Maria begins now! W...  "
      ]
     },
     "execution_count": 41,
     "metadata": {},
     "output_type": "execute_result"
    }
   ],
   "source": [
    "anime_df.head()"
   ]
  },
  {
   "cell_type": "code",
   "execution_count": 42,
   "metadata": {
    "execution": {
     "iopub.execute_input": "2023-04-25T01:12:44.348683Z",
     "iopub.status.busy": "2023-04-25T01:12:44.348365Z",
     "iopub.status.idle": "2023-04-25T01:12:44.382592Z",
     "shell.execute_reply": "2023-04-25T01:12:44.381275Z",
     "shell.execute_reply.started": "2023-04-25T01:12:44.34865Z"
    }
   },
   "outputs": [
    {
     "data": {
      "text/plain": [
       "0"
      ]
     },
     "execution_count": 42,
     "metadata": {},
     "output_type": "execute_result"
    }
   ],
   "source": [
    "anime_df.duplicated().sum()"
   ]
  },
  {
   "cell_type": "code",
   "execution_count": 43,
   "metadata": {
    "execution": {
     "iopub.execute_input": "2023-04-25T01:12:44.384469Z",
     "iopub.status.busy": "2023-04-25T01:12:44.383947Z",
     "iopub.status.idle": "2023-04-25T01:12:44.394258Z",
     "shell.execute_reply": "2023-04-25T01:12:44.393162Z",
     "shell.execute_reply.started": "2023-04-25T01:12:44.384433Z"
    }
   },
   "outputs": [
    {
     "data": {
      "text/plain": [
       "Studio\n",
       "Toei Animation       737\n",
       "Sunrise              476\n",
       "J.C.Staff            382\n",
       "TMS Entertainment    364\n",
       "MADHOUSE             357\n",
       "                    ... \n",
       "Studio Shelter         1\n",
       "Fall 2005              1\n",
       "Studio Bogey           1\n",
       "Studio Yamato          1\n",
       "Spring 1997            1\n",
       "Name: count, Length: 745, dtype: int64"
      ]
     },
     "execution_count": 43,
     "metadata": {},
     "output_type": "execute_result"
    }
   ],
   "source": [
    "anime_df['Studio'].value_counts()"
   ]
  },
  {
   "cell_type": "code",
   "execution_count": 44,
   "metadata": {
    "execution": {
     "iopub.execute_input": "2023-04-25T01:12:44.396011Z",
     "iopub.status.busy": "2023-04-25T01:12:44.395494Z",
     "iopub.status.idle": "2023-04-25T01:12:44.407233Z",
     "shell.execute_reply": "2023-04-25T01:12:44.406092Z",
     "shell.execute_reply.started": "2023-04-25T01:12:44.395978Z"
    }
   },
   "outputs": [
    {
     "data": {
      "text/plain": [
       "array(['TV   ', 'Web  ', 'Movie', 'OVA  ', 'Music', 'TV Sp', 'DVD S',\n",
       "       'Other'], dtype=object)"
      ]
     },
     "execution_count": 44,
     "metadata": {},
     "output_type": "execute_result"
    }
   ],
   "source": [
    "anime_df['Type'].unique()"
   ]
  },
  {
   "cell_type": "code",
   "execution_count": 45,
   "metadata": {
    "execution": {
     "iopub.execute_input": "2023-04-25T01:12:44.410079Z",
     "iopub.status.busy": "2023-04-25T01:12:44.408971Z",
     "iopub.status.idle": "2023-04-25T01:12:44.424577Z",
     "shell.execute_reply": "2023-04-25T01:12:44.423406Z",
     "shell.execute_reply.started": "2023-04-25T01:12:44.41003Z"
    },
    "scrolled": true
   },
   "outputs": [
    {
     "data": {
      "text/plain": [
       "Type\n",
       "TV       5446\n",
       "Movie    3577\n",
       "Web      2488\n",
       "OVA      2235\n",
       "Music    2165\n",
       "Other     990\n",
       "DVD S     911\n",
       "TV Sp     683\n",
       "Name: count, dtype: int64"
      ]
     },
     "execution_count": 45,
     "metadata": {},
     "output_type": "execute_result"
    }
   ],
   "source": [
    "anime_df['Type'].value_counts()"
   ]
  },
  {
   "cell_type": "code",
   "execution_count": 46,
   "metadata": {
    "execution": {
     "iopub.execute_input": "2023-04-25T01:12:44.426334Z",
     "iopub.status.busy": "2023-04-25T01:12:44.426015Z",
     "iopub.status.idle": "2023-04-25T01:12:44.442059Z",
     "shell.execute_reply": "2023-04-25T01:12:44.440816Z",
     "shell.execute_reply.started": "2023-04-25T01:12:44.426303Z"
    }
   },
   "outputs": [
    {
     "data": {
      "text/plain": [
       "Rank              0\n",
       "Name              0\n",
       "Type              0\n",
       "Studio         6477\n",
       "Tags            400\n",
       "Rating         3131\n",
       "Description       4\n",
       "dtype: int64"
      ]
     },
     "execution_count": 46,
     "metadata": {},
     "output_type": "execute_result"
    }
   ],
   "source": [
    "anime_df.isnull().sum()"
   ]
  },
  {
   "cell_type": "code",
   "execution_count": 47,
   "metadata": {
    "execution": {
     "iopub.execute_input": "2023-04-25T01:12:44.443812Z",
     "iopub.status.busy": "2023-04-25T01:12:44.443358Z",
     "iopub.status.idle": "2023-04-25T01:12:44.803104Z",
     "shell.execute_reply": "2023-04-25T01:12:44.802266Z",
     "shell.execute_reply.started": "2023-04-25T01:12:44.443774Z"
    }
   },
   "outputs": [
    {
     "data": {
      "text/plain": [
       "<Axes: >"
      ]
     },
     "execution_count": 47,
     "metadata": {},
     "output_type": "execute_result"
    },
    {
     "data": {
      "image/png": "[encoded data removed]",
      "text/plain": [
       "<Figure size 640x480 with 1 Axes>"
      ]
     },
     "metadata": {},
     "output_type": "display_data"
    }
   ],
   "source": [
    "sns.heatmap(anime_df.isnull(), cbar= False, yticklabels= False)"
   ]
  },
  {
   "cell_type": "markdown",
   "metadata": {},
   "source": [
    "# Cleaning the Data"
   ]
  },
  {
   "cell_type": "markdown",
   "metadata": {},
   "source": [
    "To make the recommendations more relevant to the anime plotlines, filler content will be removed. Through some research, two categories will be dropped from Type feature. OVA content was kept because, although most are filler, some are plot related. It was felt safer to keep that data for now."
   ]
  },
  {
   "cell_type": "code",
   "execution_count": 48,
   "metadata": {
    "execution": {
     "iopub.execute_input": "2023-04-25T01:12:44.805057Z",
     "iopub.status.busy": "2023-04-25T01:12:44.804474Z",
     "iopub.status.idle": "2023-04-25T01:12:44.814668Z",
     "shell.execute_reply": "2023-04-25T01:12:44.813596Z",
     "shell.execute_reply.started": "2023-04-25T01:12:44.805021Z"
    }
   },
   "outputs": [],
   "source": [
    "filler_content = anime_df[(anime_df['Type'] == 'Music') | (anime_df['Type'] == 'TV Sp')].index"
   ]
  },
  {
   "cell_type": "code",
   "execution_count": 49,
   "metadata": {
    "execution": {
     "iopub.execute_input": "2023-04-25T01:12:44.817229Z",
     "iopub.status.busy": "2023-04-25T01:12:44.816459Z",
     "iopub.status.idle": "2023-04-25T01:12:44.829896Z",
     "shell.execute_reply": "2023-04-25T01:12:44.828624Z",
     "shell.execute_reply.started": "2023-04-25T01:12:44.817192Z"
    }
   },
   "outputs": [],
   "source": [
    "anime_df.drop(filler_content, inplace = True)"
   ]
  },
  {
   "cell_type": "markdown",
   "metadata": {},
   "source": [
    "The Studio column has too many missing values and would be difficult and time cinsuming to imputate, with accuracy, on which studio is associated with the anime. This column will be removed."
   ]
  },
  {
   "cell_type": "code",
   "execution_count": 50,
   "metadata": {
    "execution": {
     "iopub.execute_input": "2023-04-25T01:12:44.832066Z",
     "iopub.status.busy": "2023-04-25T01:12:44.831669Z",
     "iopub.status.idle": "2023-04-25T01:12:44.839681Z",
     "shell.execute_reply": "2023-04-25T01:12:44.838878Z",
     "shell.execute_reply.started": "2023-04-25T01:12:44.832023Z"
    }
   },
   "outputs": [],
   "source": [
    "anime_df.drop('Studio', axis= 1, inplace= True)"
   ]
  },
  {
   "cell_type": "code",
   "execution_count": 51,
   "metadata": {
    "execution": {
     "iopub.execute_input": "2023-04-25T01:12:44.841929Z",
     "iopub.status.busy": "2023-04-25T01:12:44.840879Z",
     "iopub.status.idle": "2023-04-25T01:12:45.149006Z",
     "shell.execute_reply": "2023-04-25T01:12:45.147741Z",
     "shell.execute_reply.started": "2023-04-25T01:12:44.841878Z"
    }
   },
   "outputs": [
    {
     "data": {
      "text/plain": [
       "<Axes: >"
      ]
     },
     "execution_count": 51,
     "metadata": {},
     "output_type": "execute_result"
    },
    {
     "data": {
      "image/png": "[encoded data removed]",
      "text/plain": [
       "<Figure size 640x480 with 1 Axes>"
      ]
     },
     "metadata": {},
     "output_type": "display_data"
    }
   ],
   "source": [
    "sns.heatmap(anime_df.isnull(), cbar= False, yticklabels= False)"
   ]
  },
  {
   "cell_type": "code",
   "execution_count": 52,
   "metadata": {
    "execution": {
     "iopub.execute_input": "2023-04-25T01:12:45.15154Z",
     "iopub.status.busy": "2023-04-25T01:12:45.150629Z",
     "iopub.status.idle": "2023-04-25T01:12:45.166535Z",
     "shell.execute_reply": "2023-04-25T01:12:45.165424Z",
     "shell.execute_reply.started": "2023-04-25T01:12:45.151487Z"
    }
   },
   "outputs": [
    {
     "data": {
      "text/plain": [
       "Rank              0\n",
       "Name              0\n",
       "Type              0\n",
       "Tags             75\n",
       "Rating         2927\n",
       "Description       4\n",
       "dtype: int64"
      ]
     },
     "execution_count": 52,
     "metadata": {},
     "output_type": "execute_result"
    }
   ],
   "source": [
    "anime_df.isnull().sum()"
   ]
  },
  {
   "cell_type": "markdown",
   "metadata": {},
   "source": [
    "Now to address the description column."
   ]
  },
  {
   "cell_type": "code",
   "execution_count": 53,
   "metadata": {
    "execution": {
     "iopub.execute_input": "2023-04-25T01:12:45.168895Z",
     "iopub.status.busy": "2023-04-25T01:12:45.168081Z",
     "iopub.status.idle": "2023-04-25T01:12:45.176865Z",
     "shell.execute_reply": "2023-04-25T01:12:45.175975Z",
     "shell.execute_reply.started": "2023-04-25T01:12:45.168856Z"
    }
   },
   "outputs": [
    {
     "data": {
      "text/plain": [
       "18490    Special episodes of Qin Shi Mingyue: Canghai H...\n",
       "18491                   No synopsis yet - check back soon!\n",
       "18492                   No synopsis yet - check back soon!\n",
       "18493                   No synopsis yet - check back soon!\n",
       "18494                   No synopsis yet - check back soon!\n",
       "Name: Description, dtype: object"
      ]
     },
     "execution_count": 53,
     "metadata": {},
     "output_type": "execute_result"
    }
   ],
   "source": [
    "anime_df['Description'].tail()"
   ]
  },
  {
   "cell_type": "markdown",
   "metadata": {},
   "source": [
    "### Cleaning Tags Data"
   ]
  },
  {
   "cell_type": "markdown",
   "metadata": {},
   "source": [
    "To clean the Tags varaible, a look into its correlations will show if this is an important feature for the recommendation system."
   ]
  },
  {
   "cell_type": "code",
   "execution_count": 54,
   "metadata": {
    "execution": {
     "iopub.execute_input": "2023-04-25T01:12:45.17892Z",
     "iopub.status.busy": "2023-04-25T01:12:45.178125Z",
     "iopub.status.idle": "2023-04-25T01:12:45.190068Z",
     "shell.execute_reply": "2023-04-25T01:12:45.188779Z",
     "shell.execute_reply.started": "2023-04-25T01:12:45.178872Z"
    }
   },
   "outputs": [],
   "source": [
    "# need to remove NaN values to use later function\n",
    "filter_nulls = anime_df[(anime_df['Description'].isnull()) | (anime_df['Tags'].isnull())].index"
   ]
  },
  {
   "cell_type": "code",
   "execution_count": 55,
   "metadata": {
    "execution": {
     "iopub.execute_input": "2023-04-25T01:12:45.193364Z",
     "iopub.status.busy": "2023-04-25T01:12:45.192386Z",
     "iopub.status.idle": "2023-04-25T01:12:45.203767Z",
     "shell.execute_reply": "2023-04-25T01:12:45.202741Z",
     "shell.execute_reply.started": "2023-04-25T01:12:45.193309Z"
    }
   },
   "outputs": [],
   "source": [
    "anime_df.drop(filter_nulls, inplace= True)"
   ]
  },
  {
   "cell_type": "code",
   "execution_count": 56,
   "metadata": {
    "execution": {
     "iopub.execute_input": "2023-04-25T01:12:45.205522Z",
     "iopub.status.busy": "2023-04-25T01:12:45.205178Z",
     "iopub.status.idle": "2023-04-25T01:12:45.221127Z",
     "shell.execute_reply": "2023-04-25T01:12:45.21981Z",
     "shell.execute_reply.started": "2023-04-25T01:12:45.205488Z"
    }
   },
   "outputs": [
    {
     "data": {
      "text/plain": [
       "Rank              0\n",
       "Name              0\n",
       "Type              0\n",
       "Tags              0\n",
       "Rating         2915\n",
       "Description       0\n",
       "dtype: int64"
      ]
     },
     "execution_count": 56,
     "metadata": {},
     "output_type": "execute_result"
    }
   ],
   "source": [
    "anime_df.isnull().sum()"
   ]
  },
  {
   "cell_type": "code",
   "execution_count": 57,
   "metadata": {
    "execution": {
     "iopub.execute_input": "2023-04-25T01:12:45.222534Z",
     "iopub.status.busy": "2023-04-25T01:12:45.222238Z",
     "iopub.status.idle": "2023-04-25T01:12:45.23483Z",
     "shell.execute_reply": "2023-04-25T01:12:45.233873Z",
     "shell.execute_reply.started": "2023-04-25T01:12:45.222505Z"
    }
   },
   "outputs": [],
   "source": [
    "anime_df['Tags Length'] = anime_df['Tags'].apply(len)"
   ]
  },
  {
   "cell_type": "code",
   "execution_count": 58,
   "metadata": {
    "execution": {
     "iopub.execute_input": "2023-04-25T01:12:45.237122Z",
     "iopub.status.busy": "2023-04-25T01:12:45.23611Z",
     "iopub.status.idle": "2023-04-25T01:12:45.247863Z",
     "shell.execute_reply": "2023-04-25T01:12:45.2468Z",
     "shell.execute_reply.started": "2023-04-25T01:12:45.237087Z"
    }
   },
   "outputs": [],
   "source": [
    "anime_data = anime_df.copy()"
   ]
  },
  {
   "cell_type": "code",
   "execution_count": 59,
   "metadata": {
    "execution": {
     "iopub.execute_input": "2023-04-25T01:12:45.249708Z",
     "iopub.status.busy": "2023-04-25T01:12:45.249331Z",
     "iopub.status.idle": "2023-04-25T01:12:45.262198Z",
     "shell.execute_reply": "2023-04-25T01:12:45.261092Z",
     "shell.execute_reply.started": "2023-04-25T01:12:45.249675Z"
    }
   },
   "outputs": [],
   "source": [
    "   anime_rating = anime_data.groupby('Rating').mean(numeric_only=True)"
   ]
  },
  {
   "cell_type": "code",
   "execution_count": null,
   "metadata": {},
   "outputs": [],
   "source": []
  },
  {
   "cell_type": "code",
   "execution_count": 60,
   "metadata": {
    "execution": {
     "iopub.execute_input": "2023-04-25T01:12:45.264862Z",
     "iopub.status.busy": "2023-04-25T01:12:45.264123Z",
     "iopub.status.idle": "2023-04-25T01:12:45.278316Z",
     "shell.execute_reply": "2023-04-25T01:12:45.277143Z",
     "shell.execute_reply.started": "2023-04-25T01:12:45.264815Z"
    }
   },
   "outputs": [
    {
     "ename": "AttributeError",
     "evalue": "'Index' object has no attribute '_format_flat'",
     "output_type": "error",
     "traceback": [
      "\u001b[1;31m---------------------------------------------------------------------------\u001b[0m",
      "\u001b[1;31mAttributeError\u001b[0m                            Traceback (most recent call last)",
      "File \u001b[1;32m~\\AppData\\Roaming\\Python\\Python311\\site-packages\\IPython\\core\\formatters.py:347\u001b[0m, in \u001b[0;36mBaseFormatter.__call__\u001b[1;34m(self, obj)\u001b[0m\n\u001b[0;32m    345\u001b[0m     method \u001b[38;5;241m=\u001b[39m get_real_method(obj, \u001b[38;5;28mself\u001b[39m\u001b[38;5;241m.\u001b[39mprint_method)\n\u001b[0;32m    346\u001b[0m     \u001b[38;5;28;01mif\u001b[39;00m method \u001b[38;5;129;01mis\u001b[39;00m \u001b[38;5;129;01mnot\u001b[39;00m \u001b[38;5;28;01mNone\u001b[39;00m:\n\u001b[1;32m--> 347\u001b[0m         \u001b[38;5;28;01mreturn\u001b[39;00m \u001b[43mmethod\u001b[49m\u001b[43m(\u001b[49m\u001b[43m)\u001b[49m\n\u001b[0;32m    348\u001b[0m     \u001b[38;5;28;01mreturn\u001b[39;00m \u001b[38;5;28;01mNone\u001b[39;00m\n\u001b[0;32m    349\u001b[0m \u001b[38;5;28;01melse\u001b[39;00m:\n",
      "File \u001b[1;32mc:\\Users\\JCC\\anaconda3\\Lib\\site-packages\\pandas\\core\\frame.py:1136\u001b[0m, in \u001b[0;36m_repr_html_\u001b[1;34m(self)\u001b[0m\n\u001b[0;32m   1134\u001b[0m \u001b[38;5;66;03m# more generally, whatever we allow in NDArrayBackedExtensionBlock\u001b[39;00m\n\u001b[0;32m   1135\u001b[0m arr \u001b[38;5;241m=\u001b[39m cast(\u001b[38;5;124m\"\u001b[39m\u001b[38;5;124mnp.ndarray | DatetimeArray | TimedeltaArray | PeriodArray\u001b[39m\u001b[38;5;124m\"\u001b[39m, arr)\n\u001b[1;32m-> 1136\u001b[0m \u001b[38;5;28;01mreturn\u001b[39;00m arr\u001b[38;5;241m.\u001b[39mT\n",
      "File \u001b[1;32mc:\\Users\\JCC\\anaconda3\\Lib\\site-packages\\pandas\\io\\formats\\format.py:1108\u001b[0m, in \u001b[0;36mto_html\u001b[1;34m(self, buf, encoding, classes, notebook, border, table_id, render_links)\u001b[0m\n\u001b[0;32m   1079\u001b[0m \u001b[38;5;28;01mdef\u001b[39;00m \u001b[38;5;21mformat_array\u001b[39m(\n\u001b[0;32m   1080\u001b[0m     values: ArrayLike,\n\u001b[0;32m   1081\u001b[0m     formatter: Callable \u001b[38;5;241m|\u001b[39m \u001b[38;5;28;01mNone\u001b[39;00m,\n\u001b[1;32m   (...)\u001b[0m\n\u001b[0;32m   1090\u001b[0m     fallback_formatter: Callable \u001b[38;5;241m|\u001b[39m \u001b[38;5;28;01mNone\u001b[39;00m \u001b[38;5;241m=\u001b[39m \u001b[38;5;28;01mNone\u001b[39;00m,\n\u001b[0;32m   1091\u001b[0m ) \u001b[38;5;241m-\u001b[39m\u001b[38;5;241m>\u001b[39m \u001b[38;5;28mlist\u001b[39m[\u001b[38;5;28mstr\u001b[39m]:\n\u001b[0;32m   1092\u001b[0m \u001b[38;5;250m    \u001b[39m\u001b[38;5;124;03m\"\"\"\u001b[39;00m\n\u001b[0;32m   1093\u001b[0m \u001b[38;5;124;03m    Format an array for printing.\u001b[39;00m\n\u001b[0;32m   1094\u001b[0m \n\u001b[0;32m   1095\u001b[0m \u001b[38;5;124;03m    Parameters\u001b[39;00m\n\u001b[0;32m   1096\u001b[0m \u001b[38;5;124;03m    ----------\u001b[39;00m\n\u001b[0;32m   1097\u001b[0m \u001b[38;5;124;03m    values : np.ndarray or ExtensionArray\u001b[39;00m\n\u001b[0;32m   1098\u001b[0m \u001b[38;5;124;03m    formatter\u001b[39;00m\n\u001b[0;32m   1099\u001b[0m \u001b[38;5;124;03m    float_format\u001b[39;00m\n\u001b[0;32m   1100\u001b[0m \u001b[38;5;124;03m    na_rep\u001b[39;00m\n\u001b[0;32m   1101\u001b[0m \u001b[38;5;124;03m    digits\u001b[39;00m\n\u001b[0;32m   1102\u001b[0m \u001b[38;5;124;03m    space\u001b[39;00m\n\u001b[0;32m   1103\u001b[0m \u001b[38;5;124;03m    justify\u001b[39;00m\n\u001b[0;32m   1104\u001b[0m \u001b[38;5;124;03m    decimal\u001b[39;00m\n\u001b[0;32m   1105\u001b[0m \u001b[38;5;124;03m    leading_space : bool, optional, default True\u001b[39;00m\n\u001b[0;32m   1106\u001b[0m \u001b[38;5;124;03m        Whether the array should be formatted with a leading space.\u001b[39;00m\n\u001b[0;32m   1107\u001b[0m \u001b[38;5;124;03m        When an array as a column of a Series or DataFrame, we do want\u001b[39;00m\n\u001b[1;32m-> 1108\u001b[0m \u001b[38;5;124;03m        the leading space to pad between columns.\u001b[39;00m\n\u001b[0;32m   1109\u001b[0m \n\u001b[0;32m   1110\u001b[0m \u001b[38;5;124;03m        When formatting an Index subclass\u001b[39;00m\n\u001b[0;32m   1111\u001b[0m \u001b[38;5;124;03m        (e.g. IntervalIndex._get_values_for_csv), we don't want the\u001b[39;00m\n\u001b[0;32m   1112\u001b[0m \u001b[38;5;124;03m        leading space since it should be left-aligned.\u001b[39;00m\n\u001b[0;32m   1113\u001b[0m \u001b[38;5;124;03m    fallback_formatter\u001b[39;00m\n\u001b[0;32m   1114\u001b[0m \n\u001b[0;32m   1115\u001b[0m \u001b[38;5;124;03m    Returns\u001b[39;00m\n\u001b[0;32m   1116\u001b[0m \u001b[38;5;124;03m    -------\u001b[39;00m\n\u001b[0;32m   1117\u001b[0m \u001b[38;5;124;03m    List[str]\u001b[39;00m\n\u001b[0;32m   1118\u001b[0m \u001b[38;5;124;03m    \"\"\"\u001b[39;00m\n\u001b[0;32m   1119\u001b[0m     fmt_klass: \u001b[38;5;28mtype\u001b[39m[_GenericArrayFormatter]\n\u001b[0;32m   1120\u001b[0m     \u001b[38;5;28;01mif\u001b[39;00m lib\u001b[38;5;241m.\u001b[39mis_np_dtype(values\u001b[38;5;241m.\u001b[39mdtype, \u001b[38;5;124m\"\u001b[39m\u001b[38;5;124mM\u001b[39m\u001b[38;5;124m\"\u001b[39m):\n",
      "File \u001b[1;32mc:\\Users\\JCC\\anaconda3\\Lib\\site-packages\\pandas\\io\\formats\\html.py:88\u001b[0m, in \u001b[0;36mHTMLFormatter.to_string\u001b[1;34m(self)\u001b[0m\n\u001b[0;32m     87\u001b[0m \u001b[38;5;28;01mdef\u001b[39;00m \u001b[38;5;21mto_string\u001b[39m(\u001b[38;5;28mself\u001b[39m) \u001b[38;5;241m-\u001b[39m\u001b[38;5;241m>\u001b[39m \u001b[38;5;28mstr\u001b[39m:\n\u001b[1;32m---> 88\u001b[0m     lines \u001b[38;5;241m=\u001b[39m \u001b[38;5;28;43mself\u001b[39;49m\u001b[38;5;241;43m.\u001b[39;49m\u001b[43mrender\u001b[49m\u001b[43m(\u001b[49m\u001b[43m)\u001b[49m\n\u001b[0;32m     89\u001b[0m     \u001b[38;5;28;01mif\u001b[39;00m \u001b[38;5;28many\u001b[39m(\u001b[38;5;28misinstance\u001b[39m(x, \u001b[38;5;28mstr\u001b[39m) \u001b[38;5;28;01mfor\u001b[39;00m x \u001b[38;5;129;01min\u001b[39;00m lines):\n\u001b[0;32m     90\u001b[0m         lines \u001b[38;5;241m=\u001b[39m [\u001b[38;5;28mstr\u001b[39m(x) \u001b[38;5;28;01mfor\u001b[39;00m x \u001b[38;5;129;01min\u001b[39;00m lines]\n",
      "File \u001b[1;32mc:\\Users\\JCC\\anaconda3\\Lib\\site-packages\\pandas\\io\\formats\\html.py:644\u001b[0m, in \u001b[0;36mNotebookFormatter.render\u001b[1;34m(self)\u001b[0m\n\u001b[0;32m    642\u001b[0m \u001b[38;5;28mself\u001b[39m\u001b[38;5;241m.\u001b[39mwrite(\u001b[38;5;124m\"\u001b[39m\u001b[38;5;124m<div>\u001b[39m\u001b[38;5;124m\"\u001b[39m)\n\u001b[0;32m    643\u001b[0m \u001b[38;5;28mself\u001b[39m\u001b[38;5;241m.\u001b[39mwrite_style()\n\u001b[1;32m--> 644\u001b[0m \u001b[38;5;28;43msuper\u001b[39;49m\u001b[43m(\u001b[49m\u001b[43m)\u001b[49m\u001b[38;5;241;43m.\u001b[39;49m\u001b[43mrender\u001b[49m\u001b[43m(\u001b[49m\u001b[43m)\u001b[49m\n\u001b[0;32m    645\u001b[0m \u001b[38;5;28mself\u001b[39m\u001b[38;5;241m.\u001b[39mwrite(\u001b[38;5;124m\"\u001b[39m\u001b[38;5;124m</div>\u001b[39m\u001b[38;5;124m\"\u001b[39m)\n\u001b[0;32m    646\u001b[0m \u001b[38;5;28;01mreturn\u001b[39;00m \u001b[38;5;28mself\u001b[39m\u001b[38;5;241m.\u001b[39melements\n",
      "File \u001b[1;32mc:\\Users\\JCC\\anaconda3\\Lib\\site-packages\\pandas\\io\\formats\\html.py:94\u001b[0m, in \u001b[0;36mHTMLFormatter.render\u001b[1;34m(self)\u001b[0m\n\u001b[0;32m     93\u001b[0m \u001b[38;5;28;01mdef\u001b[39;00m \u001b[38;5;21mrender\u001b[39m(\u001b[38;5;28mself\u001b[39m) \u001b[38;5;241m-\u001b[39m\u001b[38;5;241m>\u001b[39m \u001b[38;5;28mlist\u001b[39m[\u001b[38;5;28mstr\u001b[39m]:\n\u001b[1;32m---> 94\u001b[0m     \u001b[38;5;28;43mself\u001b[39;49m\u001b[38;5;241;43m.\u001b[39;49m\u001b[43m_write_table\u001b[49m\u001b[43m(\u001b[49m\u001b[43m)\u001b[49m\n\u001b[0;32m     96\u001b[0m     \u001b[38;5;28;01mif\u001b[39;00m \u001b[38;5;28mself\u001b[39m\u001b[38;5;241m.\u001b[39mshould_show_dimensions:\n\u001b[0;32m     97\u001b[0m         by \u001b[38;5;241m=\u001b[39m \u001b[38;5;28mchr\u001b[39m(\u001b[38;5;241m215\u001b[39m)  \u001b[38;5;66;03m# ×  # noqa: RUF003\u001b[39;00m\n",
      "File \u001b[1;32mc:\\Users\\JCC\\anaconda3\\Lib\\site-packages\\pandas\\io\\formats\\html.py:267\u001b[0m, in \u001b[0;36mHTMLFormatter._write_table\u001b[1;34m(self, indent)\u001b[0m\n\u001b[0;32m    261\u001b[0m \u001b[38;5;28mself\u001b[39m\u001b[38;5;241m.\u001b[39mwrite(\n\u001b[0;32m    262\u001b[0m     \u001b[38;5;124mf\u001b[39m\u001b[38;5;124m'\u001b[39m\u001b[38;5;124m<table\u001b[39m\u001b[38;5;132;01m{\u001b[39;00mborder_attr\u001b[38;5;132;01m}\u001b[39;00m\u001b[38;5;124m class=\u001b[39m\u001b[38;5;124m\"\u001b[39m\u001b[38;5;132;01m{\u001b[39;00m\u001b[38;5;124m\"\u001b[39m\u001b[38;5;124m \u001b[39m\u001b[38;5;124m\"\u001b[39m\u001b[38;5;241m.\u001b[39mjoin(_classes)\u001b[38;5;132;01m}\u001b[39;00m\u001b[38;5;124m\"\u001b[39m\u001b[38;5;132;01m{\u001b[39;00mid_section\u001b[38;5;132;01m}\u001b[39;00m\u001b[38;5;124m>\u001b[39m\u001b[38;5;124m'\u001b[39m,\n\u001b[0;32m    263\u001b[0m     indent,\n\u001b[0;32m    264\u001b[0m )\n\u001b[0;32m    266\u001b[0m \u001b[38;5;28;01mif\u001b[39;00m \u001b[38;5;28mself\u001b[39m\u001b[38;5;241m.\u001b[39mfmt\u001b[38;5;241m.\u001b[39mheader \u001b[38;5;129;01mor\u001b[39;00m \u001b[38;5;28mself\u001b[39m\u001b[38;5;241m.\u001b[39mshow_row_idx_names:\n\u001b[1;32m--> 267\u001b[0m     \u001b[38;5;28;43mself\u001b[39;49m\u001b[38;5;241;43m.\u001b[39;49m\u001b[43m_write_header\u001b[49m\u001b[43m(\u001b[49m\u001b[43mindent\u001b[49m\u001b[43m \u001b[49m\u001b[38;5;241;43m+\u001b[39;49m\u001b[43m \u001b[49m\u001b[38;5;28;43mself\u001b[39;49m\u001b[38;5;241;43m.\u001b[39;49m\u001b[43mindent_delta\u001b[49m\u001b[43m)\u001b[49m\n\u001b[0;32m    269\u001b[0m \u001b[38;5;28mself\u001b[39m\u001b[38;5;241m.\u001b[39m_write_body(indent \u001b[38;5;241m+\u001b[39m \u001b[38;5;28mself\u001b[39m\u001b[38;5;241m.\u001b[39mindent_delta)\n\u001b[0;32m    271\u001b[0m \u001b[38;5;28mself\u001b[39m\u001b[38;5;241m.\u001b[39mwrite(\u001b[38;5;124m\"\u001b[39m\u001b[38;5;124m</table>\u001b[39m\u001b[38;5;124m\"\u001b[39m, indent)\n",
      "File \u001b[1;32mc:\\Users\\JCC\\anaconda3\\Lib\\site-packages\\pandas\\io\\formats\\html.py:403\u001b[0m, in \u001b[0;36mHTMLFormatter._write_header\u001b[1;34m(self, indent)\u001b[0m\n\u001b[0;32m    400\u001b[0m \u001b[38;5;28mself\u001b[39m\u001b[38;5;241m.\u001b[39mwrite(\u001b[38;5;124m\"\u001b[39m\u001b[38;5;124m<thead>\u001b[39m\u001b[38;5;124m\"\u001b[39m, indent)\n\u001b[0;32m    402\u001b[0m \u001b[38;5;28;01mif\u001b[39;00m \u001b[38;5;28mself\u001b[39m\u001b[38;5;241m.\u001b[39mfmt\u001b[38;5;241m.\u001b[39mheader:\n\u001b[1;32m--> 403\u001b[0m     \u001b[38;5;28;43mself\u001b[39;49m\u001b[38;5;241;43m.\u001b[39;49m\u001b[43m_write_col_header\u001b[49m\u001b[43m(\u001b[49m\u001b[43mindent\u001b[49m\u001b[43m \u001b[49m\u001b[38;5;241;43m+\u001b[39;49m\u001b[43m \u001b[49m\u001b[38;5;28;43mself\u001b[39;49m\u001b[38;5;241;43m.\u001b[39;49m\u001b[43mindent_delta\u001b[49m\u001b[43m)\u001b[49m\n\u001b[0;32m    405\u001b[0m \u001b[38;5;28;01mif\u001b[39;00m \u001b[38;5;28mself\u001b[39m\u001b[38;5;241m.\u001b[39mshow_row_idx_names:\n\u001b[0;32m    406\u001b[0m     \u001b[38;5;28mself\u001b[39m\u001b[38;5;241m.\u001b[39m_write_row_header(indent \u001b[38;5;241m+\u001b[39m \u001b[38;5;28mself\u001b[39m\u001b[38;5;241m.\u001b[39mindent_delta)\n",
      "File \u001b[1;32mc:\\Users\\JCC\\anaconda3\\Lib\\site-packages\\pandas\\io\\formats\\html.py:383\u001b[0m, in \u001b[0;36mHTMLFormatter._write_col_header\u001b[1;34m(self, indent)\u001b[0m\n\u001b[0;32m    381\u001b[0m     \u001b[38;5;28;01melse\u001b[39;00m:\n\u001b[0;32m    382\u001b[0m         row\u001b[38;5;241m.\u001b[39mappend(\u001b[38;5;124m\"\u001b[39m\u001b[38;5;124m\"\u001b[39m)\n\u001b[1;32m--> 383\u001b[0m row\u001b[38;5;241m.\u001b[39mextend(\u001b[38;5;28;43mself\u001b[39;49m\u001b[38;5;241;43m.\u001b[39;49m\u001b[43m_get_columns_formatted_values\u001b[49m\u001b[43m(\u001b[49m\u001b[43m)\u001b[49m)\n\u001b[0;32m    384\u001b[0m align \u001b[38;5;241m=\u001b[39m \u001b[38;5;28mself\u001b[39m\u001b[38;5;241m.\u001b[39mfmt\u001b[38;5;241m.\u001b[39mjustify\n\u001b[0;32m    386\u001b[0m \u001b[38;5;28;01mif\u001b[39;00m is_truncated_horizontally:\n",
      "File \u001b[1;32mc:\\Users\\JCC\\anaconda3\\Lib\\site-packages\\pandas\\io\\formats\\html.py:611\u001b[0m, in \u001b[0;36mNotebookFormatter._get_columns_formatted_values\u001b[1;34m(self)\u001b[0m\n\u001b[0;32m    609\u001b[0m \u001b[38;5;28;01mdef\u001b[39;00m \u001b[38;5;21m_get_columns_formatted_values\u001b[39m(\u001b[38;5;28mself\u001b[39m) \u001b[38;5;241m-\u001b[39m\u001b[38;5;241m>\u001b[39m \u001b[38;5;28mlist\u001b[39m[\u001b[38;5;28mstr\u001b[39m]:\n\u001b[0;32m    610\u001b[0m     \u001b[38;5;66;03m# only reached with non-Multi Index\u001b[39;00m\n\u001b[1;32m--> 611\u001b[0m     \u001b[38;5;28;01mreturn\u001b[39;00m \u001b[38;5;28;43mself\u001b[39;49m\u001b[38;5;241;43m.\u001b[39;49m\u001b[43mcolumns\u001b[49m\u001b[38;5;241;43m.\u001b[39;49m\u001b[43m_format_flat\u001b[49m(include_name\u001b[38;5;241m=\u001b[39m\u001b[38;5;28;01mFalse\u001b[39;00m)\n",
      "\u001b[1;31mAttributeError\u001b[0m: 'Index' object has no attribute '_format_flat'"
     ]
    },
    {
     "data": {
      "text/plain": [
       "               Rating      Rank  Tags Length\n",
       "Rating       1.000000 -0.932849     0.701483\n",
       "Rank        -0.932849  1.000000    -0.709693\n",
       "Tags Length  0.701483 -0.709693     1.000000"
      ]
     },
     "execution_count": 60,
     "metadata": {},
     "output_type": "execute_result"
    }
   ],
   "source": [
    "anime_rating.reset_index().corr()"
   ]
  },
  {
   "cell_type": "code",
   "execution_count": 61,
   "metadata": {
    "execution": {
     "iopub.execute_input": "2023-04-25T01:12:45.280154Z",
     "iopub.status.busy": "2023-04-25T01:12:45.279783Z",
     "iopub.status.idle": "2023-04-25T01:12:45.584455Z",
     "shell.execute_reply": "2023-04-25T01:12:45.583262Z",
     "shell.execute_reply.started": "2023-04-25T01:12:45.280121Z"
    }
   },
   "outputs": [
    {
     "data": {
      "text/plain": [
       "<Axes: >"
      ]
     },
     "execution_count": 61,
     "metadata": {},
     "output_type": "execute_result"
    },
    {
     "data": {
      "image/png": "[encoded data removed]",
      "text/plain": [
       "<Figure size 640x480 with 2 Axes>"
      ]
     },
     "metadata": {},
     "output_type": "display_data"
    }
   ],
   "source": [
    "sns.heatmap(anime_rating.reset_index().corr(), cmap= 'coolwarm', annot= True)"
   ]
  },
  {
   "cell_type": "markdown",
   "metadata": {},
   "source": [
    "Lets see the correlation when Rating is ungrouped."
   ]
  },
  {
   "cell_type": "code",
   "execution_count": 62,
   "metadata": {
    "execution": {
     "iopub.execute_input": "2023-04-25T01:12:45.586191Z",
     "iopub.status.busy": "2023-04-25T01:12:45.585882Z",
     "iopub.status.idle": "2023-04-25T01:12:45.59273Z",
     "shell.execute_reply": "2023-04-25T01:12:45.591437Z",
     "shell.execute_reply.started": "2023-04-25T01:12:45.58616Z"
    }
   },
   "outputs": [],
   "source": [
    "    corr_anime_data = anime_data.corr(numeric_only=True)"
   ]
  },
  {
   "cell_type": "code",
   "execution_count": 63,
   "metadata": {
    "execution": {
     "iopub.execute_input": "2023-04-25T01:12:45.595039Z",
     "iopub.status.busy": "2023-04-25T01:12:45.594548Z",
     "iopub.status.idle": "2023-04-25T01:12:45.895078Z",
     "shell.execute_reply": "2023-04-25T01:12:45.894111Z",
     "shell.execute_reply.started": "2023-04-25T01:12:45.594988Z"
    }
   },
   "outputs": [
    {
     "data": {
      "text/plain": [
       "<Axes: >"
      ]
     },
     "execution_count": 63,
     "metadata": {},
     "output_type": "execute_result"
    },
    {
     "data": {
      "image/png": "[encoded data removed]",
      "text/plain": [
       "<Figure size 640x480 with 2 Axes>"
      ]
     },
     "metadata": {},
     "output_type": "display_data"
    }
   ],
   "source": [
    "sns.heatmap(corr_anime_data, cmap= 'coolwarm', annot= True)"
   ]
  },
  {
   "cell_type": "code",
   "execution_count": 64,
   "metadata": {
    "execution": {
     "iopub.execute_input": "2023-04-25T01:12:45.897194Z",
     "iopub.status.busy": "2023-04-25T01:12:45.896206Z",
     "iopub.status.idle": "2023-04-25T01:12:47.116534Z",
     "shell.execute_reply": "2023-04-25T01:12:47.11511Z",
     "shell.execute_reply.started": "2023-04-25T01:12:45.897145Z"
    },
    "scrolled": true
   },
   "outputs": [
    {
     "data": {
      "text/plain": [
       "<seaborn.axisgrid.FacetGrid at 0x1a8234cf5d0>"
      ]
     },
     "execution_count": 64,
     "metadata": {},
     "output_type": "execute_result"
    },
    {
     "data": {
      "text/plain": [
       "<Figure size 1200x600 with 0 Axes>"
      ]
     },
     "metadata": {},
     "output_type": "display_data"
    },
    {
     "data": {
      "image/png": "[encoded data removed]",
      "text/plain": [
       "<Figure size 500x500 with 1 Axes>"
      ]
     },
     "metadata": {},
     "output_type": "display_data"
    }
   ],
   "source": [
    "\n",
    "plt.figure(figsize= (12, 6))\n",
    "\n",
    "#sns.jointplot(data= anime_data, x= 'Tags Length', y= 'Rating')\n",
    "anime_plot = sns.lmplot(data= anime_data, x= 'Tags Length', y= 'Rating',\n",
    "                       line_kws= {'lw': 3, 'color': 'green', 'alpha': 0.6},\n",
    "                       scatter_kws= {'alpha': 0.3})\n",
    "anime_plot.set_xlabels('Tags Length')\n",
    "anime_plot.set_ylabels('Rating')"
   ]
  },
  {
   "cell_type": "markdown",
   "metadata": {},
   "source": [
    "Since the correlations show an obvious relationship with Rank and Ratings and a weak relationship with Tags Length and Rating, let's finish cleaning the rest of our data for our recommender system."
   ]
  },
  {
   "cell_type": "markdown",
   "metadata": {},
   "source": [
    "### Cleaning up Remaining Data"
   ]
  },
  {
   "cell_type": "markdown",
   "metadata": {},
   "source": [
    "Since Rating has a connection to Tags, imputatation on the nulls will be filled with the average rating."
   ]
  },
  {
   "cell_type": "code",
   "execution_count": 65,
   "metadata": {
    "execution": {
     "iopub.execute_input": "2023-04-25T01:12:47.118505Z",
     "iopub.status.busy": "2023-04-25T01:12:47.118171Z",
     "iopub.status.idle": "2023-04-25T01:12:47.124886Z",
     "shell.execute_reply": "2023-04-25T01:12:47.12335Z",
     "shell.execute_reply.started": "2023-04-25T01:12:47.118472Z"
    }
   },
   "outputs": [],
   "source": [
    "col_mean = anime_df['Rating'].mean()\n",
    "\n",
    "anime_df['Rating'].fillna(value= col_mean, inplace= True)"
   ]
  },
  {
   "cell_type": "code",
   "execution_count": 66,
   "metadata": {
    "execution": {
     "iopub.execute_input": "2023-04-25T01:12:47.126924Z",
     "iopub.status.busy": "2023-04-25T01:12:47.12655Z",
     "iopub.status.idle": "2023-04-25T01:12:47.470195Z",
     "shell.execute_reply": "2023-04-25T01:12:47.469Z",
     "shell.execute_reply.started": "2023-04-25T01:12:47.126888Z"
    }
   },
   "outputs": [
    {
     "data": {
      "text/plain": [
       "<Axes: >"
      ]
     },
     "execution_count": 66,
     "metadata": {},
     "output_type": "execute_result"
    },
    {
     "data": {
      "image/png": "[encoded data removed]",
      "text/plain": [
       "<Figure size 640x480 with 1 Axes>"
      ]
     },
     "metadata": {},
     "output_type": "display_data"
    }
   ],
   "source": [
    "sns.heatmap(anime_df.isnull(), cbar= False, yticklabels= False)"
   ]
  },
  {
   "cell_type": "code",
   "execution_count": 67,
   "metadata": {
    "execution": {
     "iopub.execute_input": "2023-04-25T01:12:47.472394Z",
     "iopub.status.busy": "2023-04-25T01:12:47.472039Z",
     "iopub.status.idle": "2023-04-25T01:12:47.48728Z",
     "shell.execute_reply": "2023-04-25T01:12:47.486187Z",
     "shell.execute_reply.started": "2023-04-25T01:12:47.472358Z"
    }
   },
   "outputs": [
    {
     "data": {
      "text/plain": [
       "Rank           0\n",
       "Name           0\n",
       "Type           0\n",
       "Tags           0\n",
       "Rating         0\n",
       "Description    0\n",
       "Tags Length    0\n",
       "dtype: int64"
      ]
     },
     "execution_count": 67,
     "metadata": {},
     "output_type": "execute_result"
    }
   ],
   "source": [
    "anime_df.isnull().sum()"
   ]
  },
  {
   "cell_type": "markdown",
   "metadata": {},
   "source": [
    "One last part needs cleaning. When the unique values were shown for the Type variable, trailing whitespaces were seen. These need to be handled to get a consistency and accuracy."
   ]
  },
  {
   "cell_type": "code",
   "execution_count": 68,
   "metadata": {
    "execution": {
     "iopub.execute_input": "2023-04-25T01:12:47.49598Z",
     "iopub.status.busy": "2023-04-25T01:12:47.495565Z",
     "iopub.status.idle": "2023-04-25T01:12:47.505321Z",
     "shell.execute_reply": "2023-04-25T01:12:47.503967Z",
     "shell.execute_reply.started": "2023-04-25T01:12:47.495942Z"
    }
   },
   "outputs": [
    {
     "data": {
      "text/plain": [
       "array(['TV   ', 'Web  ', 'Movie', 'OVA  ', 'DVD S', 'Other'], dtype=object)"
      ]
     },
     "execution_count": 68,
     "metadata": {},
     "output_type": "execute_result"
    }
   ],
   "source": [
    "anime_df['Type'].unique()"
   ]
  },
  {
   "cell_type": "code",
   "execution_count": 69,
   "metadata": {
    "execution": {
     "iopub.execute_input": "2023-04-25T01:12:47.50852Z",
     "iopub.status.busy": "2023-04-25T01:12:47.507284Z",
     "iopub.status.idle": "2023-04-25T01:12:47.516575Z",
     "shell.execute_reply": "2023-04-25T01:12:47.515073Z",
     "shell.execute_reply.started": "2023-04-25T01:12:47.508467Z"
    }
   },
   "outputs": [],
   "source": [
    "def space_remover(column):\n",
    "    \"\"\"\n",
    "    1). Iterate through a column.\n",
    "    2). For each value, split the string to then join them by the space and assign back to the column.\n",
    "    3). return the column.\n",
    "    \"\"\"\n",
    "    for text in column:\n",
    "        column = ' '.join(column.split())\n",
    "        # print(column)\n",
    "    return column"
   ]
  },
  {
   "cell_type": "code",
   "execution_count": 70,
   "metadata": {
    "execution": {
     "iopub.execute_input": "2023-04-25T01:12:47.518713Z",
     "iopub.status.busy": "2023-04-25T01:12:47.518235Z",
     "iopub.status.idle": "2023-04-25T01:12:47.552734Z",
     "shell.execute_reply": "2023-04-25T01:12:47.551482Z",
     "shell.execute_reply.started": "2023-04-25T01:12:47.518677Z"
    }
   },
   "outputs": [],
   "source": [
    "anime_df['Type2'] = anime_df['Type'].apply(space_remover)"
   ]
  },
  {
   "cell_type": "code",
   "execution_count": 71,
   "metadata": {
    "execution": {
     "iopub.execute_input": "2023-04-25T01:12:47.554687Z",
     "iopub.status.busy": "2023-04-25T01:12:47.554356Z",
     "iopub.status.idle": "2023-04-25T01:12:47.564028Z",
     "shell.execute_reply": "2023-04-25T01:12:47.562932Z",
     "shell.execute_reply.started": "2023-04-25T01:12:47.554655Z"
    }
   },
   "outputs": [
    {
     "data": {
      "text/plain": [
       "array(['TV', 'Web', 'Movie', 'OVA', 'DVD S', 'Other'], dtype=object)"
      ]
     },
     "execution_count": 71,
     "metadata": {},
     "output_type": "execute_result"
    }
   ],
   "source": [
    "anime_df['Type2'].unique()"
   ]
  },
  {
   "cell_type": "code",
   "execution_count": 72,
   "metadata": {
    "execution": {
     "iopub.execute_input": "2023-04-25T01:12:47.565948Z",
     "iopub.status.busy": "2023-04-25T01:12:47.565516Z",
     "iopub.status.idle": "2023-04-25T01:12:47.580642Z",
     "shell.execute_reply": "2023-04-25T01:12:47.579163Z",
     "shell.execute_reply.started": "2023-04-25T01:12:47.565902Z"
    }
   },
   "outputs": [],
   "source": [
    "anime_df = anime_df.drop('Type', axis= 1)"
   ]
  },
  {
   "cell_type": "markdown",
   "metadata": {},
   "source": [
    "With our data clean, the last step is to clean up the Tags column to tokenize them for our recommender system."
   ]
  },
  {
   "cell_type": "code",
   "execution_count": 73,
   "metadata": {
    "execution": {
     "iopub.execute_input": "2023-04-25T01:12:47.585835Z",
     "iopub.status.busy": "2023-04-25T01:12:47.585425Z",
     "iopub.status.idle": "2023-04-25T01:12:47.591541Z",
     "shell.execute_reply": "2023-04-25T01:12:47.590081Z",
     "shell.execute_reply.started": "2023-04-25T01:12:47.585796Z"
    }
   },
   "outputs": [],
   "source": [
    "import string\n",
    "from nltk.corpus import stopwords"
   ]
  },
  {
   "cell_type": "code",
   "execution_count": 74,
   "metadata": {
    "execution": {
     "iopub.execute_input": "2023-04-25T01:12:47.596232Z",
     "iopub.status.busy": "2023-04-25T01:12:47.5956Z",
     "iopub.status.idle": "2023-04-25T01:12:47.604698Z",
     "shell.execute_reply": "2023-04-25T01:12:47.603641Z",
     "shell.execute_reply.started": "2023-04-25T01:12:47.596193Z"
    }
   },
   "outputs": [],
   "source": [
    "def text_cleanup(words):\n",
    "    \"\"\"\n",
    "    1). Remove punctuation\n",
    "    2). Remove stopwords\n",
    "    3). Return list of clean text\n",
    "    \"\"\"\n",
    "    \n",
    "    nopunc = [char for char in words if char not in string.punctuation]\n",
    "    \n",
    "    nopunc = ''.join(nopunc)\n",
    "    \n",
    "    return [word.lower() for word in nopunc.split() if word.lower() not in stopwords.words('english')]"
   ]
  },
  {
   "cell_type": "code",
   "execution_count": 75,
   "metadata": {
    "execution": {
     "iopub.execute_input": "2023-04-25T01:12:47.606298Z",
     "iopub.status.busy": "2023-04-25T01:12:47.605942Z",
     "iopub.status.idle": "2023-04-25T01:12:47.641327Z",
     "shell.execute_reply": "2023-04-25T01:12:47.64011Z",
     "shell.execute_reply.started": "2023-04-25T01:12:47.606264Z"
    }
   },
   "outputs": [
    {
     "data": {
      "text/plain": [
       "0    [action, adventure, fantasy, shounen, demons, ...\n",
       "1    [drama, fantasy, romance, shoujo, animal, tran...\n",
       "2    [fantasy, ancient, china, chinese, animation, ...\n",
       "3    [action, adventure, drama, fantasy, mystery, s...\n",
       "4    [action, fantasy, horror, shounen, dark, fanta...\n",
       "Name: Tags, dtype: object"
      ]
     },
     "execution_count": 75,
     "metadata": {},
     "output_type": "execute_result"
    }
   ],
   "source": [
    "# change Tags' strings to tokens\n",
    "anime_df['Tags'].head().apply(text_cleanup)"
   ]
  },
  {
   "cell_type": "code",
   "execution_count": 76,
   "metadata": {
    "execution": {
     "iopub.execute_input": "2023-04-25T01:12:47.643124Z",
     "iopub.status.busy": "2023-04-25T01:12:47.642752Z",
     "iopub.status.idle": "2023-04-25T01:12:47.650661Z",
     "shell.execute_reply": "2023-04-25T01:12:47.649152Z",
     "shell.execute_reply.started": "2023-04-25T01:12:47.643088Z"
    }
   },
   "outputs": [
    {
     "data": {
      "text/plain": [
       "(15568, 7)"
      ]
     },
     "execution_count": 76,
     "metadata": {},
     "output_type": "execute_result"
    }
   ],
   "source": [
    "anime_df.shape"
   ]
  },
  {
   "cell_type": "markdown",
   "metadata": {},
   "source": [
    "Now that we have our function to create tokens, we can make our recommendation system"
   ]
  },
  {
   "cell_type": "markdown",
   "metadata": {},
   "source": [
    "# Create the Text Vectors"
   ]
  },
  {
   "cell_type": "code",
   "execution_count": 77,
   "metadata": {
    "execution": {
     "iopub.execute_input": "2023-04-25T01:12:47.652749Z",
     "iopub.status.busy": "2023-04-25T01:12:47.652368Z",
     "iopub.status.idle": "2023-04-25T01:12:47.660347Z",
     "shell.execute_reply": "2023-04-25T01:12:47.65915Z",
     "shell.execute_reply.started": "2023-04-25T01:12:47.652693Z"
    }
   },
   "outputs": [],
   "source": [
    "from sklearn.feature_extraction.text import CountVectorizer"
   ]
  },
  {
   "cell_type": "code",
   "execution_count": 78,
   "metadata": {
    "execution": {
     "iopub.execute_input": "2023-04-25T01:12:47.662255Z",
     "iopub.status.busy": "2023-04-25T01:12:47.661857Z",
     "iopub.status.idle": "2023-04-25T01:12:47.673169Z",
     "shell.execute_reply": "2023-04-25T01:12:47.672064Z",
     "shell.execute_reply.started": "2023-04-25T01:12:47.662214Z"
    }
   },
   "outputs": [],
   "source": [
    "covec = CountVectorizer(max_features= 15500, analyzer= text_cleanup)"
   ]
  },
  {
   "cell_type": "code",
   "execution_count": 79,
   "metadata": {
    "execution": {
     "iopub.execute_input": "2023-04-25T01:12:47.675535Z",
     "iopub.status.busy": "2023-04-25T01:12:47.675056Z",
     "iopub.status.idle": "2023-04-25T01:13:08.657551Z",
     "shell.execute_reply": "2023-04-25T01:13:08.656341Z",
     "shell.execute_reply.started": "2023-04-25T01:12:47.675482Z"
    }
   },
   "outputs": [
    {
     "data": {
      "text/plain": [
       "array([[0, 0, 0, ..., 0, 0, 0],\n",
       "       [0, 0, 0, ..., 0, 0, 0],\n",
       "       [0, 0, 0, ..., 0, 0, 0],\n",
       "       ...,\n",
       "       [0, 0, 0, ..., 0, 0, 0],\n",
       "       [0, 0, 0, ..., 0, 0, 0],\n",
       "       [0, 0, 0, ..., 0, 0, 0]], dtype=int64)"
      ]
     },
     "execution_count": 79,
     "metadata": {},
     "output_type": "execute_result"
    }
   ],
   "source": [
    "covec.fit_transform(anime_df['Tags']).toarray()"
   ]
  },
  {
   "cell_type": "code",
   "execution_count": 80,
   "metadata": {
    "execution": {
     "iopub.execute_input": "2023-04-25T01:13:08.659183Z",
     "iopub.status.busy": "2023-04-25T01:13:08.658832Z",
     "iopub.status.idle": "2023-04-25T01:13:29.41313Z",
     "shell.execute_reply": "2023-04-25T01:13:29.411908Z",
     "shell.execute_reply.started": "2023-04-25T01:13:08.659149Z"
    }
   },
   "outputs": [
    {
     "data": {
      "text/plain": [
       "(15568, 617)"
      ]
     },
     "execution_count": 80,
     "metadata": {},
     "output_type": "execute_result"
    }
   ],
   "source": [
    "covec.fit_transform(anime_df['Tags']).toarray().shape"
   ]
  },
  {
   "cell_type": "code",
   "execution_count": 81,
   "metadata": {
    "execution": {
     "iopub.execute_input": "2023-04-25T01:13:29.41483Z",
     "iopub.status.busy": "2023-04-25T01:13:29.414477Z",
     "iopub.status.idle": "2023-04-25T01:13:29.420621Z",
     "shell.execute_reply": "2023-04-25T01:13:29.419378Z",
     "shell.execute_reply.started": "2023-04-25T01:13:29.414796Z"
    }
   },
   "outputs": [
    {
     "name": "stdout",
     "output_type": "stream",
     "text": [
      "['15th' '16th' '17th' '18th' '19th' '2' '4koma' 'abstract' 'abuse'\n",
      " 'acting' 'action' 'adult' 'adventure' 'africa' 'afterlife']\n"
     ]
    }
   ],
   "source": [
    "print(covec.get_feature_names_out()[:15])"
   ]
  },
  {
   "cell_type": "code",
   "execution_count": 82,
   "metadata": {
    "execution": {
     "iopub.execute_input": "2023-04-25T01:13:29.422975Z",
     "iopub.status.busy": "2023-04-25T01:13:29.422405Z",
     "iopub.status.idle": "2023-04-25T01:13:50.109956Z",
     "shell.execute_reply": "2023-04-25T01:13:50.108781Z",
     "shell.execute_reply.started": "2023-04-25T01:13:29.422929Z"
    }
   },
   "outputs": [],
   "source": [
    "token_vectors = covec.fit_transform(anime_df['Tags']).toarray()"
   ]
  },
  {
   "cell_type": "markdown",
   "metadata": {},
   "source": [
    "# Make the Recommendation System"
   ]
  },
  {
   "cell_type": "code",
   "execution_count": 83,
   "metadata": {
    "execution": {
     "iopub.execute_input": "2023-04-25T01:13:50.11189Z",
     "iopub.status.busy": "2023-04-25T01:13:50.111402Z",
     "iopub.status.idle": "2023-04-25T01:13:50.117886Z",
     "shell.execute_reply": "2023-04-25T01:13:50.116458Z",
     "shell.execute_reply.started": "2023-04-25T01:13:50.111842Z"
    }
   },
   "outputs": [],
   "source": [
    "from sklearn.metrics.pairwise import cosine_similarity"
   ]
  },
  {
   "cell_type": "code",
   "execution_count": 84,
   "metadata": {
    "execution": {
     "iopub.execute_input": "2023-04-25T01:13:50.119557Z",
     "iopub.status.busy": "2023-04-25T01:13:50.119209Z",
     "iopub.status.idle": "2023-04-25T01:13:54.212065Z",
     "shell.execute_reply": "2023-04-25T01:13:54.210736Z",
     "shell.execute_reply.started": "2023-04-25T01:13:50.119524Z"
    }
   },
   "outputs": [],
   "source": [
    "text_similarity = cosine_similarity(token_vectors)"
   ]
  },
  {
   "cell_type": "code",
   "execution_count": 85,
   "metadata": {
    "execution": {
     "iopub.execute_input": "2023-04-25T01:13:54.213925Z",
     "iopub.status.busy": "2023-04-25T01:13:54.213544Z",
     "iopub.status.idle": "2023-04-25T01:13:54.222838Z",
     "shell.execute_reply": "2023-04-25T01:13:54.221642Z",
     "shell.execute_reply.started": "2023-04-25T01:13:54.213887Z"
    }
   },
   "outputs": [
    {
     "data": {
      "text/plain": [
       "array([[1.        , 0.26568447, 0.16329932, ..., 0.        , 0.        ,\n",
       "        0.        ],\n",
       "       [0.26568447, 1.        , 0.16269784, ..., 0.        , 0.        ,\n",
       "        0.        ],\n",
       "       [0.16329932, 0.16269784, 1.        , ..., 0.25819889, 0.25819889,\n",
       "        0.        ],\n",
       "       ...,\n",
       "       [0.        , 0.        , 0.25819889, ..., 1.        , 1.        ,\n",
       "        0.        ],\n",
       "       [0.        , 0.        , 0.25819889, ..., 1.        , 1.        ,\n",
       "        0.        ],\n",
       "       [0.        , 0.        , 0.        , ..., 0.        , 0.        ,\n",
       "        1.        ]])"
      ]
     },
     "execution_count": 85,
     "metadata": {},
     "output_type": "execute_result"
    }
   ],
   "source": [
    "text_similarity"
   ]
  },
  {
   "cell_type": "code",
   "execution_count": 86,
   "metadata": {
    "execution": {
     "iopub.execute_input": "2023-04-25T01:13:54.224825Z",
     "iopub.status.busy": "2023-04-25T01:13:54.224428Z",
     "iopub.status.idle": "2023-04-25T01:13:54.234161Z",
     "shell.execute_reply": "2023-04-25T01:13:54.232706Z",
     "shell.execute_reply.started": "2023-04-25T01:13:54.224788Z"
    }
   },
   "outputs": [
    {
     "data": {
      "text/plain": [
       "(15568, 15568)"
      ]
     },
     "execution_count": 86,
     "metadata": {},
     "output_type": "execute_result"
    }
   ],
   "source": [
    "text_similarity.shape"
   ]
  },
  {
   "cell_type": "code",
   "execution_count": 87,
   "metadata": {
    "execution": {
     "iopub.execute_input": "2023-04-25T01:13:54.236116Z",
     "iopub.status.busy": "2023-04-25T01:13:54.235776Z",
     "iopub.status.idle": "2023-04-25T01:13:56.280867Z",
     "shell.execute_reply": "2023-04-25T01:13:56.279576Z",
     "shell.execute_reply.started": "2023-04-25T01:13:54.236083Z"
    }
   },
   "outputs": [
    {
     "ename": "AttributeError",
     "evalue": "'Index' object has no attribute '_format_flat'",
     "output_type": "error",
     "traceback": [
      "\u001b[1;31m---------------------------------------------------------------------------\u001b[0m",
      "\u001b[1;31mAttributeError\u001b[0m                            Traceback (most recent call last)",
      "File \u001b[1;32m~\\AppData\\Roaming\\Python\\Python311\\site-packages\\IPython\\core\\formatters.py:347\u001b[0m, in \u001b[0;36mBaseFormatter.__call__\u001b[1;34m(self, obj)\u001b[0m\n\u001b[0;32m    345\u001b[0m     method \u001b[38;5;241m=\u001b[39m get_real_method(obj, \u001b[38;5;28mself\u001b[39m\u001b[38;5;241m.\u001b[39mprint_method)\n\u001b[0;32m    346\u001b[0m     \u001b[38;5;28;01mif\u001b[39;00m method \u001b[38;5;129;01mis\u001b[39;00m \u001b[38;5;129;01mnot\u001b[39;00m \u001b[38;5;28;01mNone\u001b[39;00m:\n\u001b[1;32m--> 347\u001b[0m         \u001b[38;5;28;01mreturn\u001b[39;00m \u001b[43mmethod\u001b[49m\u001b[43m(\u001b[49m\u001b[43m)\u001b[49m\n\u001b[0;32m    348\u001b[0m     \u001b[38;5;28;01mreturn\u001b[39;00m \u001b[38;5;28;01mNone\u001b[39;00m\n\u001b[0;32m    349\u001b[0m \u001b[38;5;28;01melse\u001b[39;00m:\n",
      "File \u001b[1;32mc:\\Users\\JCC\\anaconda3\\Lib\\site-packages\\pandas\\core\\frame.py:1136\u001b[0m, in \u001b[0;36m_repr_html_\u001b[1;34m(self)\u001b[0m\n\u001b[0;32m   1134\u001b[0m \u001b[38;5;66;03m# more generally, whatever we allow in NDArrayBackedExtensionBlock\u001b[39;00m\n\u001b[0;32m   1135\u001b[0m arr \u001b[38;5;241m=\u001b[39m cast(\u001b[38;5;124m\"\u001b[39m\u001b[38;5;124mnp.ndarray | DatetimeArray | TimedeltaArray | PeriodArray\u001b[39m\u001b[38;5;124m\"\u001b[39m, arr)\n\u001b[1;32m-> 1136\u001b[0m \u001b[38;5;28;01mreturn\u001b[39;00m arr\u001b[38;5;241m.\u001b[39mT\n",
      "File \u001b[1;32mc:\\Users\\JCC\\anaconda3\\Lib\\site-packages\\pandas\\io\\formats\\format.py:1108\u001b[0m, in \u001b[0;36mto_html\u001b[1;34m(self, buf, encoding, classes, notebook, border, table_id, render_links)\u001b[0m\n\u001b[0;32m   1079\u001b[0m \u001b[38;5;28;01mdef\u001b[39;00m \u001b[38;5;21mformat_array\u001b[39m(\n\u001b[0;32m   1080\u001b[0m     values: ArrayLike,\n\u001b[0;32m   1081\u001b[0m     formatter: Callable \u001b[38;5;241m|\u001b[39m \u001b[38;5;28;01mNone\u001b[39;00m,\n\u001b[1;32m   (...)\u001b[0m\n\u001b[0;32m   1090\u001b[0m     fallback_formatter: Callable \u001b[38;5;241m|\u001b[39m \u001b[38;5;28;01mNone\u001b[39;00m \u001b[38;5;241m=\u001b[39m \u001b[38;5;28;01mNone\u001b[39;00m,\n\u001b[0;32m   1091\u001b[0m ) \u001b[38;5;241m-\u001b[39m\u001b[38;5;241m>\u001b[39m \u001b[38;5;28mlist\u001b[39m[\u001b[38;5;28mstr\u001b[39m]:\n\u001b[0;32m   1092\u001b[0m \u001b[38;5;250m    \u001b[39m\u001b[38;5;124;03m\"\"\"\u001b[39;00m\n\u001b[0;32m   1093\u001b[0m \u001b[38;5;124;03m    Format an array for printing.\u001b[39;00m\n\u001b[0;32m   1094\u001b[0m \n\u001b[0;32m   1095\u001b[0m \u001b[38;5;124;03m    Parameters\u001b[39;00m\n\u001b[0;32m   1096\u001b[0m \u001b[38;5;124;03m    ----------\u001b[39;00m\n\u001b[0;32m   1097\u001b[0m \u001b[38;5;124;03m    values : np.ndarray or ExtensionArray\u001b[39;00m\n\u001b[0;32m   1098\u001b[0m \u001b[38;5;124;03m    formatter\u001b[39;00m\n\u001b[0;32m   1099\u001b[0m \u001b[38;5;124;03m    float_format\u001b[39;00m\n\u001b[0;32m   1100\u001b[0m \u001b[38;5;124;03m    na_rep\u001b[39;00m\n\u001b[0;32m   1101\u001b[0m \u001b[38;5;124;03m    digits\u001b[39;00m\n\u001b[0;32m   1102\u001b[0m \u001b[38;5;124;03m    space\u001b[39;00m\n\u001b[0;32m   1103\u001b[0m \u001b[38;5;124;03m    justify\u001b[39;00m\n\u001b[0;32m   1104\u001b[0m \u001b[38;5;124;03m    decimal\u001b[39;00m\n\u001b[0;32m   1105\u001b[0m \u001b[38;5;124;03m    leading_space : bool, optional, default True\u001b[39;00m\n\u001b[0;32m   1106\u001b[0m \u001b[38;5;124;03m        Whether the array should be formatted with a leading space.\u001b[39;00m\n\u001b[0;32m   1107\u001b[0m \u001b[38;5;124;03m        When an array as a column of a Series or DataFrame, we do want\u001b[39;00m\n\u001b[1;32m-> 1108\u001b[0m \u001b[38;5;124;03m        the leading space to pad between columns.\u001b[39;00m\n\u001b[0;32m   1109\u001b[0m \n\u001b[0;32m   1110\u001b[0m \u001b[38;5;124;03m        When formatting an Index subclass\u001b[39;00m\n\u001b[0;32m   1111\u001b[0m \u001b[38;5;124;03m        (e.g. IntervalIndex._get_values_for_csv), we don't want the\u001b[39;00m\n\u001b[0;32m   1112\u001b[0m \u001b[38;5;124;03m        leading space since it should be left-aligned.\u001b[39;00m\n\u001b[0;32m   1113\u001b[0m \u001b[38;5;124;03m    fallback_formatter\u001b[39;00m\n\u001b[0;32m   1114\u001b[0m \n\u001b[0;32m   1115\u001b[0m \u001b[38;5;124;03m    Returns\u001b[39;00m\n\u001b[0;32m   1116\u001b[0m \u001b[38;5;124;03m    -------\u001b[39;00m\n\u001b[0;32m   1117\u001b[0m \u001b[38;5;124;03m    List[str]\u001b[39;00m\n\u001b[0;32m   1118\u001b[0m \u001b[38;5;124;03m    \"\"\"\u001b[39;00m\n\u001b[0;32m   1119\u001b[0m     fmt_klass: \u001b[38;5;28mtype\u001b[39m[_GenericArrayFormatter]\n\u001b[0;32m   1120\u001b[0m     \u001b[38;5;28;01mif\u001b[39;00m lib\u001b[38;5;241m.\u001b[39mis_np_dtype(values\u001b[38;5;241m.\u001b[39mdtype, \u001b[38;5;124m\"\u001b[39m\u001b[38;5;124mM\u001b[39m\u001b[38;5;124m\"\u001b[39m):\n",
      "File \u001b[1;32mc:\\Users\\JCC\\anaconda3\\Lib\\site-packages\\pandas\\io\\formats\\html.py:88\u001b[0m, in \u001b[0;36mHTMLFormatter.to_string\u001b[1;34m(self)\u001b[0m\n\u001b[0;32m     87\u001b[0m \u001b[38;5;28;01mdef\u001b[39;00m \u001b[38;5;21mto_string\u001b[39m(\u001b[38;5;28mself\u001b[39m) \u001b[38;5;241m-\u001b[39m\u001b[38;5;241m>\u001b[39m \u001b[38;5;28mstr\u001b[39m:\n\u001b[1;32m---> 88\u001b[0m     lines \u001b[38;5;241m=\u001b[39m \u001b[38;5;28;43mself\u001b[39;49m\u001b[38;5;241;43m.\u001b[39;49m\u001b[43mrender\u001b[49m\u001b[43m(\u001b[49m\u001b[43m)\u001b[49m\n\u001b[0;32m     89\u001b[0m     \u001b[38;5;28;01mif\u001b[39;00m \u001b[38;5;28many\u001b[39m(\u001b[38;5;28misinstance\u001b[39m(x, \u001b[38;5;28mstr\u001b[39m) \u001b[38;5;28;01mfor\u001b[39;00m x \u001b[38;5;129;01min\u001b[39;00m lines):\n\u001b[0;32m     90\u001b[0m         lines \u001b[38;5;241m=\u001b[39m [\u001b[38;5;28mstr\u001b[39m(x) \u001b[38;5;28;01mfor\u001b[39;00m x \u001b[38;5;129;01min\u001b[39;00m lines]\n",
      "File \u001b[1;32mc:\\Users\\JCC\\anaconda3\\Lib\\site-packages\\pandas\\io\\formats\\html.py:644\u001b[0m, in \u001b[0;36mNotebookFormatter.render\u001b[1;34m(self)\u001b[0m\n\u001b[0;32m    642\u001b[0m \u001b[38;5;28mself\u001b[39m\u001b[38;5;241m.\u001b[39mwrite(\u001b[38;5;124m\"\u001b[39m\u001b[38;5;124m<div>\u001b[39m\u001b[38;5;124m\"\u001b[39m)\n\u001b[0;32m    643\u001b[0m \u001b[38;5;28mself\u001b[39m\u001b[38;5;241m.\u001b[39mwrite_style()\n\u001b[1;32m--> 644\u001b[0m \u001b[38;5;28;43msuper\u001b[39;49m\u001b[43m(\u001b[49m\u001b[43m)\u001b[49m\u001b[38;5;241;43m.\u001b[39;49m\u001b[43mrender\u001b[49m\u001b[43m(\u001b[49m\u001b[43m)\u001b[49m\n\u001b[0;32m    645\u001b[0m \u001b[38;5;28mself\u001b[39m\u001b[38;5;241m.\u001b[39mwrite(\u001b[38;5;124m\"\u001b[39m\u001b[38;5;124m</div>\u001b[39m\u001b[38;5;124m\"\u001b[39m)\n\u001b[0;32m    646\u001b[0m \u001b[38;5;28;01mreturn\u001b[39;00m \u001b[38;5;28mself\u001b[39m\u001b[38;5;241m.\u001b[39melements\n",
      "File \u001b[1;32mc:\\Users\\JCC\\anaconda3\\Lib\\site-packages\\pandas\\io\\formats\\html.py:94\u001b[0m, in \u001b[0;36mHTMLFormatter.render\u001b[1;34m(self)\u001b[0m\n\u001b[0;32m     93\u001b[0m \u001b[38;5;28;01mdef\u001b[39;00m \u001b[38;5;21mrender\u001b[39m(\u001b[38;5;28mself\u001b[39m) \u001b[38;5;241m-\u001b[39m\u001b[38;5;241m>\u001b[39m \u001b[38;5;28mlist\u001b[39m[\u001b[38;5;28mstr\u001b[39m]:\n\u001b[1;32m---> 94\u001b[0m     \u001b[38;5;28;43mself\u001b[39;49m\u001b[38;5;241;43m.\u001b[39;49m\u001b[43m_write_table\u001b[49m\u001b[43m(\u001b[49m\u001b[43m)\u001b[49m\n\u001b[0;32m     96\u001b[0m     \u001b[38;5;28;01mif\u001b[39;00m \u001b[38;5;28mself\u001b[39m\u001b[38;5;241m.\u001b[39mshould_show_dimensions:\n\u001b[0;32m     97\u001b[0m         by \u001b[38;5;241m=\u001b[39m \u001b[38;5;28mchr\u001b[39m(\u001b[38;5;241m215\u001b[39m)  \u001b[38;5;66;03m# ×  # noqa: RUF003\u001b[39;00m\n",
      "File \u001b[1;32mc:\\Users\\JCC\\anaconda3\\Lib\\site-packages\\pandas\\io\\formats\\html.py:267\u001b[0m, in \u001b[0;36mHTMLFormatter._write_table\u001b[1;34m(self, indent)\u001b[0m\n\u001b[0;32m    261\u001b[0m \u001b[38;5;28mself\u001b[39m\u001b[38;5;241m.\u001b[39mwrite(\n\u001b[0;32m    262\u001b[0m     \u001b[38;5;124mf\u001b[39m\u001b[38;5;124m'\u001b[39m\u001b[38;5;124m<table\u001b[39m\u001b[38;5;132;01m{\u001b[39;00mborder_attr\u001b[38;5;132;01m}\u001b[39;00m\u001b[38;5;124m class=\u001b[39m\u001b[38;5;124m\"\u001b[39m\u001b[38;5;132;01m{\u001b[39;00m\u001b[38;5;124m\"\u001b[39m\u001b[38;5;124m \u001b[39m\u001b[38;5;124m\"\u001b[39m\u001b[38;5;241m.\u001b[39mjoin(_classes)\u001b[38;5;132;01m}\u001b[39;00m\u001b[38;5;124m\"\u001b[39m\u001b[38;5;132;01m{\u001b[39;00mid_section\u001b[38;5;132;01m}\u001b[39;00m\u001b[38;5;124m>\u001b[39m\u001b[38;5;124m'\u001b[39m,\n\u001b[0;32m    263\u001b[0m     indent,\n\u001b[0;32m    264\u001b[0m )\n\u001b[0;32m    266\u001b[0m \u001b[38;5;28;01mif\u001b[39;00m \u001b[38;5;28mself\u001b[39m\u001b[38;5;241m.\u001b[39mfmt\u001b[38;5;241m.\u001b[39mheader \u001b[38;5;129;01mor\u001b[39;00m \u001b[38;5;28mself\u001b[39m\u001b[38;5;241m.\u001b[39mshow_row_idx_names:\n\u001b[1;32m--> 267\u001b[0m     \u001b[38;5;28;43mself\u001b[39;49m\u001b[38;5;241;43m.\u001b[39;49m\u001b[43m_write_header\u001b[49m\u001b[43m(\u001b[49m\u001b[43mindent\u001b[49m\u001b[43m \u001b[49m\u001b[38;5;241;43m+\u001b[39;49m\u001b[43m \u001b[49m\u001b[38;5;28;43mself\u001b[39;49m\u001b[38;5;241;43m.\u001b[39;49m\u001b[43mindent_delta\u001b[49m\u001b[43m)\u001b[49m\n\u001b[0;32m    269\u001b[0m \u001b[38;5;28mself\u001b[39m\u001b[38;5;241m.\u001b[39m_write_body(indent \u001b[38;5;241m+\u001b[39m \u001b[38;5;28mself\u001b[39m\u001b[38;5;241m.\u001b[39mindent_delta)\n\u001b[0;32m    271\u001b[0m \u001b[38;5;28mself\u001b[39m\u001b[38;5;241m.\u001b[39mwrite(\u001b[38;5;124m\"\u001b[39m\u001b[38;5;124m</table>\u001b[39m\u001b[38;5;124m\"\u001b[39m, indent)\n",
      "File \u001b[1;32mc:\\Users\\JCC\\anaconda3\\Lib\\site-packages\\pandas\\io\\formats\\html.py:403\u001b[0m, in \u001b[0;36mHTMLFormatter._write_header\u001b[1;34m(self, indent)\u001b[0m\n\u001b[0;32m    400\u001b[0m \u001b[38;5;28mself\u001b[39m\u001b[38;5;241m.\u001b[39mwrite(\u001b[38;5;124m\"\u001b[39m\u001b[38;5;124m<thead>\u001b[39m\u001b[38;5;124m\"\u001b[39m, indent)\n\u001b[0;32m    402\u001b[0m \u001b[38;5;28;01mif\u001b[39;00m \u001b[38;5;28mself\u001b[39m\u001b[38;5;241m.\u001b[39mfmt\u001b[38;5;241m.\u001b[39mheader:\n\u001b[1;32m--> 403\u001b[0m     \u001b[38;5;28;43mself\u001b[39;49m\u001b[38;5;241;43m.\u001b[39;49m\u001b[43m_write_col_header\u001b[49m\u001b[43m(\u001b[49m\u001b[43mindent\u001b[49m\u001b[43m \u001b[49m\u001b[38;5;241;43m+\u001b[39;49m\u001b[43m \u001b[49m\u001b[38;5;28;43mself\u001b[39;49m\u001b[38;5;241;43m.\u001b[39;49m\u001b[43mindent_delta\u001b[49m\u001b[43m)\u001b[49m\n\u001b[0;32m    405\u001b[0m \u001b[38;5;28;01mif\u001b[39;00m \u001b[38;5;28mself\u001b[39m\u001b[38;5;241m.\u001b[39mshow_row_idx_names:\n\u001b[0;32m    406\u001b[0m     \u001b[38;5;28mself\u001b[39m\u001b[38;5;241m.\u001b[39m_write_row_header(indent \u001b[38;5;241m+\u001b[39m \u001b[38;5;28mself\u001b[39m\u001b[38;5;241m.\u001b[39mindent_delta)\n",
      "File \u001b[1;32mc:\\Users\\JCC\\anaconda3\\Lib\\site-packages\\pandas\\io\\formats\\html.py:383\u001b[0m, in \u001b[0;36mHTMLFormatter._write_col_header\u001b[1;34m(self, indent)\u001b[0m\n\u001b[0;32m    381\u001b[0m     \u001b[38;5;28;01melse\u001b[39;00m:\n\u001b[0;32m    382\u001b[0m         row\u001b[38;5;241m.\u001b[39mappend(\u001b[38;5;124m\"\u001b[39m\u001b[38;5;124m\"\u001b[39m)\n\u001b[1;32m--> 383\u001b[0m row\u001b[38;5;241m.\u001b[39mextend(\u001b[38;5;28;43mself\u001b[39;49m\u001b[38;5;241;43m.\u001b[39;49m\u001b[43m_get_columns_formatted_values\u001b[49m\u001b[43m(\u001b[49m\u001b[43m)\u001b[49m)\n\u001b[0;32m    384\u001b[0m align \u001b[38;5;241m=\u001b[39m \u001b[38;5;28mself\u001b[39m\u001b[38;5;241m.\u001b[39mfmt\u001b[38;5;241m.\u001b[39mjustify\n\u001b[0;32m    386\u001b[0m \u001b[38;5;28;01mif\u001b[39;00m is_truncated_horizontally:\n",
      "File \u001b[1;32mc:\\Users\\JCC\\anaconda3\\Lib\\site-packages\\pandas\\io\\formats\\html.py:611\u001b[0m, in \u001b[0;36mNotebookFormatter._get_columns_formatted_values\u001b[1;34m(self)\u001b[0m\n\u001b[0;32m    609\u001b[0m \u001b[38;5;28;01mdef\u001b[39;00m \u001b[38;5;21m_get_columns_formatted_values\u001b[39m(\u001b[38;5;28mself\u001b[39m) \u001b[38;5;241m-\u001b[39m\u001b[38;5;241m>\u001b[39m \u001b[38;5;28mlist\u001b[39m[\u001b[38;5;28mstr\u001b[39m]:\n\u001b[0;32m    610\u001b[0m     \u001b[38;5;66;03m# only reached with non-Multi Index\u001b[39;00m\n\u001b[1;32m--> 611\u001b[0m     \u001b[38;5;28;01mreturn\u001b[39;00m \u001b[38;5;28;43mself\u001b[39;49m\u001b[38;5;241;43m.\u001b[39;49m\u001b[43mcolumns\u001b[49m\u001b[38;5;241;43m.\u001b[39;49m\u001b[43m_format_flat\u001b[49m(include_name\u001b[38;5;241m=\u001b[39m\u001b[38;5;28;01mFalse\u001b[39;00m)\n",
      "\u001b[1;31mAttributeError\u001b[0m: 'Index' object has no attribute '_format_flat'"
     ]
    },
    {
     "data": {
      "text/plain": [
       "Name                                               Name  \\\n",
       "0     Demon Slayer: Kimetsu no Yaiba - Entertainment...   \n",
       "1                        Fruits Basket the Final Season   \n",
       "2                                       Mo Dao Zu Shi 3   \n",
       "3                      Fullmetal Alchemist: Brotherhood   \n",
       "4                   Attack on Titan 3rd Season: Part II   \n",
       "\n",
       "Name  Demon Slayer: Kimetsu no Yaiba - Entertainment District Arc  \\\n",
       "0                                              1.000000             \n",
       "1                                              0.265684             \n",
       "2                                              0.163299             \n",
       "3                                              0.430706             \n",
       "4                                              0.473879             \n",
       "\n",
       "Name  Fruits Basket the Final Season  Mo Dao Zu Shi 3  \\\n",
       "0                           0.265684         0.163299   \n",
       "1                           1.000000         0.162698   \n",
       "2                           0.162698         1.000000   \n",
       "3                           0.572159         0.131876   \n",
       "4                           0.275411         0.217643   \n",
       "\n",
       "Name  Fullmetal Alchemist: Brotherhood  Attack on Titan 3rd Season: Part II  \\\n",
       "0                             0.430706                             0.473879   \n",
       "1                             0.572159                             0.275411   \n",
       "2                             0.131876                             0.217643   \n",
       "3                             1.000000                             0.382692   \n",
       "4                             0.382692                             1.000000   \n",
       "\n",
       "Name  Jujutsu Kaisen  Attack on Titan The Final Season: Part II  \\\n",
       "0           0.429669                                   0.429669   \n",
       "1           0.190261                                   0.332956   \n",
       "2           0.087706                                   0.263117   \n",
       "3           0.289157                                   0.462652   \n",
       "4           0.445399                                   0.699913   \n",
       "\n",
       "Name  Attack on Titan The Final Season  \\\n",
       "0                             0.461880   \n",
       "1                             0.575224   \n",
       "2                             0.212132   \n",
       "3                             0.606128   \n",
       "4                             0.666886   \n",
       "\n",
       "Name  Demon Slayer: Kimetsu no Yaiba Movie - Mugen Train  \\\n",
       "0                                              0.791155    \n",
       "1                                              0.404226    \n",
       "2                                              0.149071    \n",
       "3                                              0.491473    \n",
       "4                                              0.378517    \n",
       "\n",
       "Name  Haikyuu!! Karasuno High School vs Shiratorizawa Academy  your name.  \\\n",
       "0                                              0.214834          0.000000   \n",
       "1                                              0.095130          0.095130   \n",
       "2                                              0.087706          0.000000   \n",
       "3                                              0.173494          0.057831   \n",
       "4                                              0.190885          0.000000   \n",
       "\n",
       "Name  Haikyuu!! Second Season  Demon Slayer: Kimetsu no Yaiba  \\\n",
       "0                    0.223607                        0.829288   \n",
       "1                    0.099015                        0.275411   \n",
       "2                    0.091287                        0.145095   \n",
       "3                    0.180579                        0.574038   \n",
       "4                    0.198680                        0.368421   \n",
       "\n",
       "Name  Hunter x Hunter (2011)  A Silent Voice  Violet Evergarden Movie  \\\n",
       "0                   0.571548        0.207020                 0.195180   \n",
       "1                   0.325396        0.366679                 0.194461   \n",
       "2                   0.200000        0.084515                 0.239046   \n",
       "3                   0.527504        0.334367                 0.236433   \n",
       "4                   0.507833        0.183942                 0.173422   \n",
       "\n",
       "Name  Haikyuu!! To the Top: Part II  Heaven Official's Blessing Special  \\\n",
       "0                          0.258199                            0.052705   \n",
       "1                          0.114332                            0.070014   \n",
       "2                          0.105409                            0.516398   \n",
       "3                          0.208514                            0.042563   \n",
       "4                          0.229416                            0.046829   \n",
       "\n",
       "Name  That Time I Got Reincarnated as a Slime Season 2     Given  \\\n",
       "0                                             0.376867  0.138013   \n",
       "1                                             0.143040  0.320844   \n",
       "2                                             0.131876  0.084515   \n",
       "3                                             0.260870  0.445823   \n",
       "4                                             0.334855  0.122628   \n",
       "\n",
       "Name  Code Geass: Lelouch of the Rebellion R2  Mo Dao Zu Shi 2  \\\n",
       "0                                    0.000000         0.430706   \n",
       "1                                    0.000000         0.143040   \n",
       "2                                    0.000000         0.659380   \n",
       "3                                    0.044455         0.217391   \n",
       "4                                    0.000000         0.239182   \n",
       "\n",
       "Name  Gintama: The Very Final  Link Click  Mob Psycho 100 II  \\\n",
       "0                    0.387298    0.230940           0.286446   \n",
       "1                    0.171499    0.345134           0.142695   \n",
       "2                    0.079057    0.353553           0.087706   \n",
       "3                    0.312772    0.233126           0.231326   \n",
       "4                    0.286770    0.359092           0.254514   \n",
       "\n",
       "Name  Haikyuu!! To the Top  Fruits Basket 2nd Season  The Promised Neverland  \\\n",
       "0                 0.258199                  0.215166                0.298142   \n",
       "1                 0.114332                  0.914659                0.429064   \n",
       "2                 0.105409                  0.158114                0.182574   \n",
       "3                 0.208514                  0.521286                0.441415   \n",
       "4                 0.229416                  0.229416                0.573964   \n",
       "\n",
       "Name  Spirited Away  \\\n",
       "0          0.138013   \n",
       "1          0.137505   \n",
       "2          0.084515   \n",
       "3          0.111456   \n",
       "4          0.183942   \n",
       "\n",
       "Name  That Time I Got Reincarnated as a Slime Season 2: Part II  \\\n",
       "0                                              0.361478           \n",
       "1                                              0.274398           \n",
       "2                                              0.126491           \n",
       "3                                              0.333623           \n",
       "4                                              0.321182           \n",
       "\n",
       "Name  Heaven Official's Blessing  Ranking of Kings  \\\n",
       "0                       0.224733          0.489898   \n",
       "1                       0.119416          0.271163   \n",
       "2                       0.440386          0.200000   \n",
       "3                       0.145191          0.395628   \n",
       "4                       0.119808          0.435286   \n",
       "\n",
       "Name  Mushoku Tensei: Jobless Reincarnation - Part II  \\\n",
       "0                                            0.355409   \n",
       "1                                            0.314756   \n",
       "2                                            0.217643   \n",
       "3                                            0.382692   \n",
       "4                                            0.315789   \n",
       "\n",
       "Name  Gintama.: Shirogane no Tamashii-hen 2  Clannad After Story  \\\n",
       "0                                  0.322749             0.064550   \n",
       "1                                  0.128624             0.257248   \n",
       "2                                  0.079057             0.158114   \n",
       "3                                  0.260643             0.208514   \n",
       "4                                  0.229416             0.057354   \n",
       "\n",
       "Name  Mo Dao Zu Shi  Gintama': Enchousen  Banana Fish  Douluo Dalu 2  \\\n",
       "0          0.355409             0.313112     0.225374       0.214834   \n",
       "1          0.078689             0.124784     0.523937       0.142695   \n",
       "2          0.652929             0.076696     0.069007       0.789352   \n",
       "3          0.239182             0.252861     0.500517       0.173494   \n",
       "4          0.157895             0.222566     0.200250       0.254514   \n",
       "\n",
       "Name  Gintama Kanketsu-hen: Yorozuya yo Eien Nare  Gintama.  \\\n",
       "0                                        0.333333  0.322749   \n",
       "1                                        0.132842  0.128624   \n",
       "2                                        0.081650  0.079057   \n",
       "3                                        0.269191  0.260643   \n",
       "4                                        0.236940  0.229416   \n",
       "\n",
       "Name  Gintama.: Shirogane no Tamashii-hen  Attack on Titan 3rd Season  \\\n",
       "0                                0.322749                    0.414644   \n",
       "1                                0.128624                    0.275411   \n",
       "2                                0.079057                    0.217643   \n",
       "3                                0.260643                    0.334855   \n",
       "4                                0.229416                    0.947368   \n",
       "\n",
       "Name  Steins;Gate  Haikyuu!!  Gintama'  One-Punch Man  \\\n",
       "0        0.062622   0.223607  0.288675       0.304290   \n",
       "1        0.207973   0.099015  0.115045       0.121268   \n",
       "2        0.153393   0.091287  0.070711       0.074536   \n",
       "3        0.252861   0.180579  0.233126       0.196589   \n",
       "4        0.055641   0.198680  0.205196       0.270369   \n",
       "\n",
       "Name  Demon Slayer: Kimetsu no Yaiba - Mugen Train  Gintama°  \\\n",
       "0                                         0.710047  0.288675   \n",
       "1                                         0.428746  0.115045   \n",
       "2                                         0.158114  0.070711   \n",
       "3                                         0.521286  0.233126   \n",
       "4                                         0.401478  0.205196   \n",
       "\n",
       "Name  Howl's Moving Castle  Natsume's Book of Friends Season 6  \\\n",
       "0                 0.223607                            0.266667   \n",
       "1                 0.247537                            0.309965   \n",
       "2                 0.273861                            0.163299   \n",
       "3                 0.180579                            0.215353   \n",
       "4                 0.198680                            0.236940   \n",
       "\n",
       "Name  JoJo's Bizarre Adventure: Golden Wind  \\\n",
       "0                                  0.372678   \n",
       "1                                  0.396059   \n",
       "2                                  0.091287   \n",
       "3                                  0.601929   \n",
       "4                                  0.264906   \n",
       "\n",
       "Name  JoJo's Bizarre Adventure: Stone Ocean  Vinland Saga  \\\n",
       "0                                  0.456435      0.375735   \n",
       "1                                  0.121268      0.124784   \n",
       "2                                  0.111803      0.076696   \n",
       "3                                  0.368605      0.354005   \n",
       "4                                  0.324443      0.222566   \n",
       "\n",
       "Name  Natsume's Book of Friends Season 4  Assassination Classroom 2nd Season  \\\n",
       "0                               0.193649                            0.250490   \n",
       "1                               0.214373                            0.083189   \n",
       "2                               0.079057                            0.076696   \n",
       "3                               0.156386                            0.202289   \n",
       "4                               0.114708                            0.222566   \n",
       "\n",
       "Name  Natsume's Book of Friends Season 5  My Hero Academia 3  \\\n",
       "0                               0.193649            0.389249   \n",
       "1                               0.214373            0.206835   \n",
       "2                               0.079057            0.095346   \n",
       "3                               0.156386            0.377217   \n",
       "4                               0.114708            0.345857   \n",
       "\n",
       "Name  Violet Evergarden  That Time I Got Reincarnated as a Slime  \\\n",
       "0              0.172133                                 0.377124   \n",
       "1              0.171499                                 0.156556   \n",
       "2              0.210819                                 0.115470   \n",
       "3              0.208514                                 0.266485   \n",
       "4              0.152944                                 0.335083   \n",
       "\n",
       "Name  My Hero Academia 2  Wolf Children  SK8 the Infinity  \\\n",
       "0               0.235702       0.091287          0.000000   \n",
       "1               0.563602       0.242536          0.550823   \n",
       "2               0.057735       0.111803          0.000000   \n",
       "3               0.571040       0.258023          0.430528   \n",
       "4               0.209427       0.162221          0.000000   \n",
       "\n",
       "Name  Hajime no Ippo: The Fighting!  Code Geass: Lelouch of the Rebellion  \\\n",
       "0                          0.276026                              0.051640   \n",
       "1                          0.137505                              0.034300   \n",
       "2                          0.084515                              0.000000   \n",
       "3                          0.278639                              0.083406   \n",
       "4                          0.245256                              0.045883   \n",
       "\n",
       "Name  JoJo’s Bizarre Adventure: Stardust Crusaders - Battle in Egypt  \\\n",
       "0                                              0.451848                \n",
       "1                                              0.385872                \n",
       "2                                              0.079057                \n",
       "3                                              0.573415                \n",
       "4                                              0.344124                \n",
       "\n",
       "Name  Yona of the Dawn: Zeno Arc  \\\n",
       "0                       0.466667   \n",
       "1                       0.398527   \n",
       "2                       0.163299   \n",
       "3                       0.538382   \n",
       "4                       0.355409   \n",
       "\n",
       "Name  JoJo's Bizarre Adventure: Diamond is Unbreakable  \\\n",
       "0                                             0.358057   \n",
       "1                                             0.428086   \n",
       "2                                             0.087706   \n",
       "3                                             0.636146   \n",
       "4                                             0.318142   \n",
       "\n",
       "Name  Kamisama Kiss: Kako-hen  Hajime no Ippo: New Challenger  \\\n",
       "0                    0.125245                        0.286446   \n",
       "1                    0.207973                        0.142695   \n",
       "2                    0.076696                        0.087706   \n",
       "3                    0.151717                        0.289157   \n",
       "4                    0.111283                        0.254514   \n",
       "\n",
       "Name  Mushishi Zoku Shou 2nd Season  Attack on Titan  \\\n",
       "0                          0.292770         0.383571   \n",
       "1                          0.259281         0.318465   \n",
       "2                          0.239046         0.176166   \n",
       "3                          0.236433         0.503362   \n",
       "4                          0.346844         0.809427   \n",
       "\n",
       "Name  Haikyuu!! Tokushuu! Harukou Volley ni Kaketa Seishun  \\\n",
       "0                                              0.316228      \n",
       "1                                              0.140028      \n",
       "2                                              0.129099      \n",
       "3                                              0.255377      \n",
       "4                                              0.280976      \n",
       "\n",
       "Name  Kaguya-sama: Love Is War?  Gintama: Porori-hen  \\\n",
       "0                      0.133333             0.322749   \n",
       "1                      0.177123             0.128624   \n",
       "2                      0.081650             0.079057   \n",
       "3                      0.161515             0.260643   \n",
       "4                      0.118470             0.229416   \n",
       "\n",
       "Name  March Comes in like a Lion 2nd Season  \\\n",
       "0                                  0.207020   \n",
       "1                                  0.366679   \n",
       "2                                  0.084515   \n",
       "3                                  0.278639   \n",
       "4                                  0.122628   \n",
       "\n",
       "Name  Natsume's Book of Friends Season 3  Attack on Titan 2nd Season  \\\n",
       "0                               0.193649                    0.440386   \n",
       "1                               0.214373                    0.255945   \n",
       "2                               0.079057                    0.202260   \n",
       "3                               0.156386                    0.355643   \n",
       "4                               0.114708                    0.929320   \n",
       "\n",
       "Name  I Want to Eat Your Pancreas  Rascal Does Not Dream of a Dreaming Girl  \\\n",
       "0                        0.074536                                  0.077850   \n",
       "1                        0.198030                                  0.206835   \n",
       "2                        0.182574                                  0.190693   \n",
       "3                        0.120386                                  0.125739   \n",
       "4                        0.066227                                  0.069171   \n",
       "\n",
       "Name  Given Movie  Mushishi Zoku Shou  Princess Mononoke  \\\n",
       "0        0.086066            0.292770           0.214834   \n",
       "1        0.543079            0.259281           0.142695   \n",
       "2        0.052705            0.239046           0.087706   \n",
       "3        0.417029            0.236433           0.173494   \n",
       "4        0.076472            0.346844           0.190885   \n",
       "\n",
       "Name  Kuroko's Basketball 3  Haikyuu!! Movie 4: Battle of Concepts  Dr. Stone  \\\n",
       "0                  0.273861                               0.258199   0.286446   \n",
       "1                  0.121268                               0.114332   0.095130   \n",
       "2                  0.111803                               0.105409   0.087706   \n",
       "3                  0.221163                               0.208514   0.231326   \n",
       "4                  0.243332                               0.229416   0.318142   \n",
       "\n",
       "Name  Attack on Titan: No Regrets  Horimiya  Cowboy Bebop  Hotarubi no Mori e  \\\n",
       "0                        0.426006  0.233550      0.173205            0.138013   \n",
       "1                        0.323381  0.155126      0.153393            0.229175   \n",
       "2                        0.223607  0.095346      0.000000            0.084515   \n",
       "3                        0.344031  0.188608      0.279751            0.167183   \n",
       "4                        0.919255  0.207514      0.102598            0.122628   \n",
       "\n",
       "Name  The Disastrous Life of Saiki K. 2nd Season  \\\n",
       "0                                       0.182574   \n",
       "1                                       0.080845   \n",
       "2                                       0.074536   \n",
       "3                                       0.147442   \n",
       "4                                       0.162221   \n",
       "\n",
       "Name  Monogatari Series: Second Season  Castlevania Season 4  Doukyuusei  \\\n",
       "0                             0.286446              0.330289    0.129099   \n",
       "1                             0.190261              0.365636    0.214373   \n",
       "2                             0.175412              0.067420    0.079057   \n",
       "3                             0.289157              0.444554    0.208514   \n",
       "4                             0.254514              0.244558    0.114708   \n",
       "\n",
       "Name    ERASED  The Rising of the Shield Hero  To Your Eternity  \\\n",
       "0     0.087287                       0.329983          0.414039   \n",
       "1     0.579771                       0.250490          0.366679   \n",
       "2     0.053452                       0.230940          0.169031   \n",
       "3     0.599171                       0.304555          0.445823   \n",
       "4     0.077557                       0.418854          0.367884   \n",
       "\n",
       "Name  Hajime no Ippo: Rising  Josee, the Tiger and the Fish  ...  \\\n",
       "0                   0.298142                       0.115470  ...   \n",
       "1                   0.148522                       0.230089  ...   \n",
       "2                   0.091287                       0.282843  ...   \n",
       "3                   0.300965                       0.186501  ...   \n",
       "4                   0.264906                       0.102598  ...   \n",
       "\n",
       "Name  Twins in Bakery  Fuusen no Doratarou  Cheorin Samchongsa  \\\n",
       "0            0.000000             0.086066            0.105409   \n",
       "1            0.000000             0.114332            0.000000   \n",
       "2            0.095346             0.105409            0.129099   \n",
       "3            0.000000             0.139010            0.085126   \n",
       "4            0.000000             0.076472            0.093659   \n",
       "\n",
       "Name  Chibikko Kamu no Bouken   Lazenca  The Thief And The Hat  Qi Jiguang  \\\n",
       "0                    0.149071  0.195180               0.000000    0.258199   \n",
       "1                    0.000000  0.000000               0.000000    0.000000   \n",
       "2                    0.000000  0.119523               0.316228    0.316228   \n",
       "3                    0.120386  0.157622               0.000000    0.104257   \n",
       "4                    0.000000  0.086711               0.000000    0.114708   \n",
       "\n",
       "Name  Magia Record: Puella Magi Madoka Magica Side Story Final Season  \\\n",
       "0                                              0.248452                 \n",
       "1                                              0.330049                 \n",
       "2                                              0.304290                 \n",
       "3                                              0.200643                 \n",
       "4                                              0.441511                 \n",
       "\n",
       "Name  Oishinbo Pilot   Adamski  Ruguo Lishi Shi Yiqun Miao  \\\n",
       "0           0.195180  0.000000                    0.081650   \n",
       "1           0.194461  0.000000                    0.054233   \n",
       "2           0.119523  0.111803                    0.200000   \n",
       "3           0.236433  0.000000                    0.065938   \n",
       "4           0.173422  0.000000                    0.000000   \n",
       "\n",
       "Name  The Spirits of Cairn  Dumuqiao  Mayi He Da Xiang  Chufa Zhiqian  \\\n",
       "0                 0.000000  0.000000          0.000000       0.000000   \n",
       "1                 0.000000  0.000000          0.054233       0.000000   \n",
       "2                 0.158114  0.365148          0.200000       0.447214   \n",
       "3                 0.000000  0.000000          0.065938       0.000000   \n",
       "4                 0.000000  0.000000          0.000000       0.000000   \n",
       "\n",
       "Name  Aoao Dai Bu  Wo Shi Bu Bai Chi  Xiongmao Yangyang He Xiao Huoban  \\\n",
       "0        0.182574           0.000000                          0.000000   \n",
       "1        0.181902           0.000000                          0.045835   \n",
       "2        0.447214           0.239046                          0.169031   \n",
       "3        0.147442           0.000000                          0.055728   \n",
       "4        0.243332           0.000000                          0.000000   \n",
       "\n",
       "Name  Wo Shi Wangzhe  Girl Gaku. II Lucky Stars  Oni Girl!! x Mameshiba  \\\n",
       "0           0.105409                        0.0                0.086066   \n",
       "1           0.140028                        0.0                0.000000   \n",
       "2           0.387298                        0.0                0.000000   \n",
       "3           0.085126                        0.0                0.000000   \n",
       "4           0.187317                        0.0                0.000000   \n",
       "\n",
       "Name  Fuusen Inu Tinny: Nandaka Fushigi na - Kyouryuu no Kuni  \\\n",
       "0                                              0.149071         \n",
       "1                                              0.000000         \n",
       "2                                              0.000000         \n",
       "3                                              0.120386         \n",
       "4                                              0.000000         \n",
       "\n",
       "Name  Renmei Kuugun Koukuu Mahou Ongakutai Luminous Witches  Wankorobee  \\\n",
       "0                                              0.000000        0.236940   \n",
       "1                                              0.000000        0.196722   \n",
       "2                                              0.000000        0.145095   \n",
       "3                                              0.104257        0.239182   \n",
       "4                                              0.114708        0.210526   \n",
       "\n",
       "Name  Tanoshii Bunmeishi: Tetsu Monogatari  Kurayukaba  \\\n",
       "0                                      0.0    0.115470   \n",
       "1                                      0.0    0.153393   \n",
       "2                                      0.0    0.141421   \n",
       "3                                      0.0    0.093250   \n",
       "4                                      0.0    0.205196   \n",
       "\n",
       "Name  Chibikuro Sambo to Futago no Otouto  Chibikuro Sambo no Tora Taiji  \\\n",
       "0                                0.000000                       0.000000   \n",
       "1                                0.000000                       0.000000   \n",
       "2                                0.129099                       0.129099   \n",
       "3                                0.000000                       0.000000   \n",
       "4                                0.000000                       0.000000   \n",
       "\n",
       "Name  Qiang Shen Ji: Shenhai Xianluo Pian  Shiritori Oukoku  \\\n",
       "0                                0.149071          0.000000   \n",
       "1                                0.049507          0.000000   \n",
       "2                                0.365148          0.141421   \n",
       "3                                0.120386          0.000000   \n",
       "4                                0.132453          0.000000   \n",
       "\n",
       "Name  Himawari no You ni  Kitarou Tanjou: Gegege no Nazo  \\\n",
       "0               0.000000                        0.292770   \n",
       "1               0.210042                        0.129641   \n",
       "2               0.000000                        0.119523   \n",
       "3               0.085126                        0.236433   \n",
       "4               0.000000                        0.260133   \n",
       "\n",
       "Name  Tongari Atama no Gonta: Futatsu no Namae wo Ikita Fukushima Hisai Inu no Monogatari  \\\n",
       "0                                              0.195180                                     \n",
       "1                                              0.064820                                     \n",
       "2                                              0.239046                                     \n",
       "3                                              0.078811                                     \n",
       "4                                              0.086711                                     \n",
       "\n",
       "Name  Chuldong! Animal Rescue  Kexue Tansuo Zhi Qimiao Dili  Tudou Xia  \\\n",
       "0                    0.069007                      0.000000   0.000000   \n",
       "1                    0.137505                      0.000000   0.000000   \n",
       "2                    0.169031                      0.258199   0.316228   \n",
       "3                    0.111456                      0.000000   0.000000   \n",
       "4                    0.122628                      0.000000   0.000000   \n",
       "\n",
       "Name  Luotuo Xian Wu  Bei Ken Xiong 2: Jinpai Tegong  Beastars Final Season  \\\n",
       "0           0.210819                        0.081650               0.250490   \n",
       "1           0.210042                        0.054233               0.249567   \n",
       "2           0.516398                        0.200000               0.230089   \n",
       "3           0.170251                        0.131876               0.303433   \n",
       "4           0.280976                        0.072548               0.278207   \n",
       "\n",
       "Name  Station Idol Latch!  \\\n",
       "0                     0.0   \n",
       "1                     0.0   \n",
       "2                     0.0   \n",
       "3                     0.0   \n",
       "4                     0.0   \n",
       "\n",
       "Name  My Next Life as a Villainess: All Routes Lead to Doom! Movie  \\\n",
       "0                                              0.129099              \n",
       "1                                              0.171499              \n",
       "2                                              0.237171              \n",
       "3                                              0.104257              \n",
       "4                                              0.229416              \n",
       "\n",
       "Name  Hotsure ni Fureru  Houzi Dian Bianpao  Xue Shizi  Xingji Tegong Dui  \\\n",
       "0                   0.0            0.000000   0.000000           0.000000   \n",
       "1                   0.0            0.049507   0.000000           0.000000   \n",
       "2                   0.0            0.182574   0.365148           0.316228   \n",
       "3                   0.0            0.060193   0.000000           0.000000   \n",
       "4                   0.0            0.000000   0.000000           0.000000   \n",
       "\n",
       "Name  Xiao Ya Jiujiu  Hei Hei Yu Baibai: Qi Shan Xuexiao  \\\n",
       "0           0.000000                            0.000000   \n",
       "1           0.049507                            0.044281   \n",
       "2           0.182574                            0.163299   \n",
       "3           0.060193                            0.053838   \n",
       "4           0.000000                            0.000000   \n",
       "\n",
       "Name  7 falls, 8 comebacks, 7 sports  Fang Xue Yi Hou  San Mao Liulang Ji  \\\n",
       "0                                0.0         0.000000            0.000000   \n",
       "1                                0.0         0.000000            0.000000   \n",
       "2                                0.0         0.365148            0.447214   \n",
       "3                                0.0         0.000000            0.000000   \n",
       "4                                0.0         0.000000            0.000000   \n",
       "\n",
       "Name  San Mao Liulang Ji (2006)  The Imaginary  Gebocon I Opening Animation  \\\n",
       "0                      0.000000       0.182574                     0.077850   \n",
       "1                      0.000000       0.121268                     0.051709   \n",
       "2                      0.447214       0.447214                     0.095346   \n",
       "3                      0.000000       0.147442                     0.125739   \n",
       "4                      0.000000       0.162221                     0.069171   \n",
       "\n",
       "Name  Ometeotl Hero  Kin no Makiba  \\\n",
       "0               0.0       0.086066   \n",
       "1               0.0       0.171499   \n",
       "2               0.0       0.105409   \n",
       "3               0.0       0.139010   \n",
       "4               0.0       0.152944   \n",
       "\n",
       "Name  Pleasant Goat and Big Big Wolf: Against the Dark Force  \\\n",
       "0                                              0.133333        \n",
       "1                                              0.132842        \n",
       "2                                              0.244949        \n",
       "3                                              0.161515        \n",
       "4                                              0.118470        \n",
       "\n",
       "Name  Hachidori no Hito Shizuku: Watashi ni Dekiru Koto  Geki Drive  \\\n",
       "0                                              0.105409         0.0   \n",
       "1                                              0.140028         0.0   \n",
       "2                                              0.129099         0.0   \n",
       "3                                              0.170251         0.0   \n",
       "4                                              0.093659         0.0   \n",
       "\n",
       "Name  Cheonbangjichuk Hani  THE HUNTER  Asa  Otsukare Oyasumi, Yumeko.  \\\n",
       "0                 0.000000         0.0  0.0                        0.0   \n",
       "1                 0.000000         0.0  0.0                        0.0   \n",
       "2                 0.129099         0.0  0.0                        0.0   \n",
       "3                 0.000000         0.0  0.0                        0.0   \n",
       "4                 0.000000         0.0  0.0                        0.0   \n",
       "\n",
       "Name  Taiyi Xianmo Lu Zhi Ling Fei Ji 4th Season  Feifei De Hangye  \\\n",
       "0                                       0.214834          0.000000   \n",
       "1                                       0.095130          0.057166   \n",
       "2                                       0.526235          0.210819   \n",
       "3                                       0.173494          0.069505   \n",
       "4                                       0.190885          0.000000   \n",
       "\n",
       "Name  Zhuangzi Shuo  Da Jili Chedui  Shen Qi De Da Yunhe  Nee, Koko ni Iru.  \\\n",
       "0          0.115470        0.000000             0.000000                0.0   \n",
       "1          0.000000        0.000000             0.000000                0.0   \n",
       "2          0.282843        0.365148             0.316228                0.0   \n",
       "3          0.000000        0.000000             0.000000                0.0   \n",
       "4          0.000000        0.000000             0.000000                0.0   \n",
       "\n",
       "Name  Hua Jianghu Zhi Gui Yexing: Part II  \\\n",
       "0                                0.074536   \n",
       "1                                0.000000   \n",
       "2                                0.273861   \n",
       "3                                0.060193   \n",
       "4                                0.066227   \n",
       "\n",
       "Name  Jingju Mao 4 Zhi Jiaota Shidi: Part II  Reincarnated as a Sword  \\\n",
       "0                                   0.275241                 0.250490   \n",
       "1                                   0.109691                 0.166378   \n",
       "2                                   0.202260                 0.230089   \n",
       "3                                   0.177822                 0.252861   \n",
       "4                                   0.146735                 0.278207   \n",
       "\n",
       "Name  TwinBee Paradise Special Drama: Fantasian Everyday  Feixiang de Gezi  \\\n",
       "0                                              0.105409           0.000000   \n",
       "1                                              0.070014           0.076696   \n",
       "2                                              0.129099           0.282843   \n",
       "3                                              0.085126           0.093250   \n",
       "4                                              0.093659           0.000000   \n",
       "\n",
       "Name  Qi Qi Miao Le Xing  Gu De Bai Zhi Mengyou Jiadao  Gushi Xiao Hao Shou  \\\n",
       "0               0.000000                      0.000000             0.000000   \n",
       "1               0.047565                      0.000000             0.051709   \n",
       "2               0.175412                      0.447214             0.190693   \n",
       "3               0.057831                      0.000000             0.062869   \n",
       "4               0.000000                      0.000000             0.000000   \n",
       "\n",
       "Name  Flipnote Warrior  ​Semi Shigure  Xiao Yanzi  \\\n",
       "0             0.258199       0.000000    0.000000   \n",
       "1             0.171499       0.000000    0.000000   \n",
       "2             0.316228       0.158114    0.365148   \n",
       "3             0.208514       0.000000    0.000000   \n",
       "4             0.344124       0.000000    0.000000   \n",
       "\n",
       "Name  McDull: Chuntian Huahua Zhonghua Bowuguan  Nan Fang Shao Nian  Jinxes  \\\n",
       "0                                      0.000000            0.000000     0.0   \n",
       "1                                      0.047565            0.000000     0.0   \n",
       "2                                      0.175412            0.447214     0.0   \n",
       "3                                      0.057831            0.000000     0.0   \n",
       "4                                      0.000000            0.000000     0.0   \n",
       "\n",
       "Name  Love is in small things 2nd Season  Living with Garfield  \\\n",
       "0                               0.000000              0.000000   \n",
       "1                               0.076696              0.000000   \n",
       "2                               0.141421              0.141421   \n",
       "3                               0.000000              0.000000   \n",
       "4                               0.000000              0.000000   \n",
       "\n",
       "Name  Oshiri Tantei Movie 2: Tentou Mushi Iseki no Nazo  Baise Shandian  \\\n",
       "0                                              0.091287        0.000000   \n",
       "1                                              0.060634        0.000000   \n",
       "2                                              0.111803        0.282843   \n",
       "3                                              0.147442        0.000000   \n",
       "4                                              0.081111        0.000000   \n",
       "\n",
       "Name  Bridgestone: Chase Your Dream - The Journey of Kosuke Hagino  \\\n",
       "0                                                   0.0              \n",
       "1                                                   0.0              \n",
       "2                                                   0.0              \n",
       "3                                                   0.0              \n",
       "4                                                   0.0              \n",
       "\n",
       "Name  Goblin Slayer 2  Peleliu: Rakuen no Guernica  Tooriame  \\\n",
       "0            0.358057                     0.311400       0.0   \n",
       "1            0.237826                     0.103418       0.0   \n",
       "2            0.350823                     0.095346       0.0   \n",
       "3            0.289157                     0.251478       0.0   \n",
       "4            0.445399                     0.345857       0.0   \n",
       "\n",
       "Name  Zhandou Ba Geji! Shanyao de Richang  Better back then  Make My Day  \\\n",
       "0                                     0.0          0.000000     0.000000   \n",
       "1                                     0.0          0.000000     0.000000   \n",
       "2                                     0.3          0.129099     0.000000   \n",
       "3                                     0.0          0.000000     0.000000   \n",
       "4                                     0.0          0.000000     0.114708   \n",
       "\n",
       "Name  Shachiku-san wa Youjo Yuurei ni Iyasaretai.  Nostalgia  \\\n",
       "0                                        0.163299   0.000000   \n",
       "1                                        0.108465   0.070014   \n",
       "2                                        0.100000   0.129099   \n",
       "3                                        0.131876   0.085126   \n",
       "4                                        0.145095   0.000000   \n",
       "\n",
       "Name  Qin Shi Mingyue: Canghai Hengliu Xiaomeng Specials  \\\n",
       "0                                              0.286446    \n",
       "1                                              0.000000    \n",
       "2                                              0.438529    \n",
       "3                                              0.057831    \n",
       "4                                              0.063628    \n",
       "\n",
       "Name  Yi Tang Juchang: Sanguo Yanyi  \\\n",
       "0                          0.000000   \n",
       "1                          0.000000   \n",
       "2                          0.447214   \n",
       "3                          0.000000   \n",
       "4                          0.000000   \n",
       "\n",
       "Name  Fenghuang Ji Xiang Yu Qingming Shanghe Tu  \\\n",
       "0                                      0.000000   \n",
       "1                                      0.000000   \n",
       "2                                      0.258199   \n",
       "3                                      0.000000   \n",
       "4                                      0.000000   \n",
       "\n",
       "Name  Chengshi Jiyi Wo Men de Jieri  \\\n",
       "0                          0.000000   \n",
       "1                          0.000000   \n",
       "2                          0.258199   \n",
       "3                          0.000000   \n",
       "4                          0.000000   \n",
       "\n",
       "Name  Heisei Inu Monogatari Bow: Genshi Inu Monogatari Bow  \n",
       "0                                                   0.0     \n",
       "1                                                   0.0     \n",
       "2                                                   0.0     \n",
       "3                                                   0.0     \n",
       "4                                                   0.0     \n",
       "\n",
       "[5 rows x 15569 columns]"
      ]
     },
     "execution_count": 87,
     "metadata": {},
     "output_type": "execute_result"
    }
   ],
   "source": [
    "df = pd.DataFrame(text_similarity, columns=anime_df['Name'], index=anime_df['Name']).reset_index()\n",
    "\n",
    "df.head()"
   ]
  },
  {
   "cell_type": "code",
   "execution_count": 105,
   "metadata": {
    "execution": {
     "iopub.execute_input": "2023-04-25T01:13:56.283152Z",
     "iopub.status.busy": "2023-04-25T01:13:56.282745Z",
     "iopub.status.idle": "2023-04-25T01:13:57.222587Z",
     "shell.execute_reply": "2023-04-25T01:13:57.221246Z",
     "shell.execute_reply.started": "2023-04-25T01:13:56.28311Z"
    }
   },
   "outputs": [
    {
     "name": "stdout",
     "output_type": "stream",
     "text": [
      "Name                                                Name    Rating  \\\n",
      "123      Fate/stay night: Heaven's Feel III. spring song  4.320000   \n",
      "131            Steins;Gate Movie: Load Region of Deja Vu  4.310000   \n",
      "146                 The Disappearance of Haruhi Suzumiya  4.300000   \n",
      "167                                        Steins;Gate 0  4.280000   \n",
      "374                                       86: Eighty-Six  4.160000   \n",
      "480    Steins;Gate: Kyoukaimenjou no Missing Link - D...  4.120000   \n",
      "959                                     Future Boy Conan  3.970000   \n",
      "1568   The Garden of Sinners: Recalled Out Summer - E...  3.840000   \n",
      "1781                             Serial Experiments Lain  3.810000   \n",
      "2983             Higurashi no Naku Koro ni Kaku Outbreak  3.650000   \n",
      "3772                    Higurashi: When They Cry - Sotsu  3.570000   \n",
      "3791                             Gosenzo-sama Banbanzai!  3.570000   \n",
      "3841                                              Maroko  3.570000   \n",
      "5573                                    Japan Sinks 2020  3.440000   \n",
      "5457                                             Harmony  3.440000   \n",
      "5770                                             SAKUGAN  3.420000   \n",
      "6518   YU-NO: A Girl Who Chants Love at the Bound of ...  3.380000   \n",
      "6458                                             Babylon  3.380000   \n",
      "865                                           ID:INVADED  3.379061   \n",
      "7495                                     Baldr Force EXE  3.310000   \n",
      "8074                               Natsuiro no Sunadokei  3.270000   \n",
      "7965                             Chaos;Child: Silent Sky  3.270000   \n",
      "8308   YU-NO: A Girl Who Chants Love at the Bound of ...  3.250000   \n",
      "10803  Tsuki wa Higashi ni Hi wa Nishi ni: Operation ...  2.980000   \n",
      "\n",
      "Name                                      Top 3 Tags  \n",
      "123                         Action, Fantasy, Romance  \n",
      "131                          Drama, Sci Fi, Thriller  \n",
      "146                           Drama, Sci Fi, Shounen  \n",
      "167                           Drama, Mystery, Sci Fi  \n",
      "374                            Action, Drama, Sci Fi  \n",
      "480                  Sci Fi, Psychological, Thriller  \n",
      "959                         Adventure, Drama, Sci Fi  \n",
      "1568   Drama, Based on a Light Novel, Mature Themes,  \n",
      "1781                     Mystery, Sci Fi, Conspiracy  \n",
      "2983                   Horror, Countryside, Thriller  \n",
      "3772                    Horror, Mystery, Countryside  \n",
      "3791                   Sci Fi, Abstract, Time Travel  \n",
      "3841                         Sci Fi, Abstract, Recap  \n",
      "5573                       Drama, Sci Fi, Earthquake  \n",
      "5457                 Sci Fi, Dystopia, Psychological  \n",
      "5770                        Sci Fi, Based on a Novel  \n",
      "6518                      Ecchi, Sci Fi, Time Travel  \n",
      "6458                  Mystery, Conspiracy, Political  \n",
      "865                      Mystery, Sci Fi, Detectives  \n",
      "7495                           Action, Mecha, Sci Fi  \n",
      "8074                          Drama, Romance, Sci Fi  \n",
      "7965                  Mystery, Sci Fi, Psychological  \n",
      "8308                           Drama, Ecchi, Mystery  \n",
      "10803                           Comedy, Drama, Harem  \n"
     ]
    }
   ],
   "source": [
    "input_anime = 'Steins;Gate'\n",
    "recommendation = pd.DataFrame(df.nlargest(25, input_anime)[['Name', input_anime]])\n",
    "recommender = recommendation[recommendation['Name'] != input_anime]\n",
    "recommender['Rating'] = recommender['Name'].apply(lambda x: anime_df[anime_df['Name'] == x]['Rating'].values[0])\n",
    "recommender['Tags'] = recommender['Name'].apply(lambda x: anime_df[anime_df['Name'] == x]['Tags'].values[0])\n",
    "recommender['Top 3 Tags'] = recommender['Tags'].apply(lambda x: ', '.join(x.split(', ')[:3]))\n",
    "recommender = recommender.sort_values(by='Rating', ascending=False)\n",
    "print(recommender[['Name', 'Rating', 'Top 3 Tags']])"
   ]
  },
  {
   "cell_type": "markdown",
   "metadata": {},
   "source": [
    "# End"
   ]
  }
 ],
 "metadata": {
  "kaggle": {
   "accelerator": "none",
   "dataSources": [
    {
     "datasetId": 1867679,
     "sourceId": 3050102,
     "sourceType": "datasetVersion"
    }
   ],
   "dockerImageVersionId": 30458,
   "isGpuEnabled": false,
   "isInternetEnabled": false,
   "language": "python",
   "sourceType": "notebook"
  },
  "kernelspec": {
   "display_name": "Python 3 (ipykernel)",
   "language": "python",
   "name": "python3"
  },
  "language_info": {
   "codemirror_mode": {
    "name": "ipython",
    "version": 3
   },
   "file_extension": ".py",
   "mimetype": "text/x-python",
   "name": "python",
   "nbconvert_exporter": "python",
   "pygments_lexer": "ipython3",
   "version": "3.11.5"
  }
 },
 "nbformat": 4,
 "nbformat_minor": 4
}
